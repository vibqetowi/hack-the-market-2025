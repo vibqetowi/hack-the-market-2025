{
 "cells": [
  {
   "cell_type": "markdown",
   "metadata": {
    "deletable": false,
    "editable": false,
    "nbgrader": {
     "cell_type": "markdown",
     "checksum": "154c1899c51319f0a595322cd32efcd8",
     "grade": false,
     "grade_id": "cell-14a928e807244ec5",
     "locked": true,
     "schema_version": 3,
     "solution": false,
     "task": false
    }
   },
   "source": [
    "![](https://algo-assets.amplifyme.com/quant/challenge1.png)"
   ]
  },
  {
   "cell_type": "markdown",
   "metadata": {
    "deletable": false,
    "editable": false,
    "nbgrader": {
     "cell_type": "markdown",
     "checksum": "da573837a64d802ad5d654ca35750713",
     "grade": false,
     "grade_id": "cell-9d02e3a9d3423fef",
     "locked": true,
     "schema_version": 3,
     "solution": false,
     "task": false
    }
   },
   "source": [
    "# Quant Simulation Challenge 1 - Non-skewed Price Making\n",
    "\n",
    "Your first challenge is to work independently to follow the instructor to complete the challenges below. This will help give you the foundations for the future challenges.\n",
    "\n",
    "The goal of this challenge is to automate the market-making process, using object-orientated programming to automatically create a bid-offer spread around the reference price. You're expected to provide a 2% non-skewed bid and offer for each trade.\n",
    "\n",
    "Good luck!\n",
    "\n",
    "To start let's import the packages to be used within this notebook."
   ]
  },
  {
   "cell_type": "code",
   "execution_count": 63,
   "execution_state": "idle",
   "metadata": {
    "deletable": false,
    "editable": false,
    "nbgrader": {
     "cell_type": "code",
     "checksum": "d52d4256c3ca76244a0606e2b57cff50",
     "grade": false,
     "grade_id": "cell-4a7a0335193cf40f",
     "locked": true,
     "schema_version": 3,
     "solution": false,
     "task": false
    }
   },
   "outputs": [],
   "source": [
    "# The code in this cell is used to import the packages to be used throughout this notebook.\n",
    "# The following are private packages available only during this simnulation:\n",
    "from AmplifyQuantTrading import Data\n",
    "from AmplifyQuantTrading import Exchange\n",
    "from AmplifyQuantTrading import MarketMaker\n",
    "from AmplifyQuantTrading import HedgeFund as hf\n",
    "# The following are publicly available packages:\n",
    "from matplotlib import pyplot as plt\n",
    "from pandas import *\n",
    "from IPython.display import VimeoVideo"
   ]
  },
  {
   "cell_type": "code",
   "execution_count": 64,
   "execution_state": "idle",
   "metadata": {
    "deletable": false,
    "editable": false,
    "nbgrader": {
     "cell_type": "code",
     "checksum": "1a56976d1c2b69de2a736c93c8d6b632",
     "grade": false,
     "grade_id": "cell-6e9cb9e8166bf7b7",
     "locked": true,
     "schema_version": 3,
     "solution": false,
     "task": false
    }
   },
   "outputs": [
    {
     "data": {
      "text/html": [
       "\n",
       "        <iframe\n",
       "            width=\"400\"\n",
       "            height=\"300\"\n",
       "            src=\"https://player.vimeo.com/video/744733270?h=2c04396a12\"\n",
       "            frameborder=\"0\"\n",
       "            allowfullscreen\n",
       "            \n",
       "        ></iframe>\n",
       "        "
      ],
      "text/plain": [
       "<IPython.lib.display.VimeoVideo at 0x7fea1139f8e0>"
      ]
     },
     "execution_count": 64,
     "metadata": {},
     "output_type": "execute_result"
    }
   ],
   "source": [
    "VimeoVideo('744733270?h=2c04396a12')"
   ]
  },
  {
   "cell_type": "code",
   "execution_count": 65,
   "execution_state": "idle",
   "metadata": {
    "deletable": false,
    "editable": false,
    "nbgrader": {
     "cell_type": "code",
     "checksum": "be71459b59175aea650745949d92f2c5",
     "grade": true,
     "grade_id": "cell-95700bc815297acc",
     "locked": true,
     "points": 0,
     "schema_version": 3,
     "solution": false,
     "task": false
    }
   },
   "outputs": [],
   "source": [
    "# HIDDEN PARAMS BOX"
   ]
  },
  {
   "cell_type": "markdown",
   "metadata": {
    "deletable": false,
    "editable": false,
    "nbgrader": {
     "cell_type": "markdown",
     "checksum": "cfa90bc5f1db4c8e14d8bb4dddfcf10d",
     "grade": false,
     "grade_id": "986049254f29a043",
     "locked": true,
     "schema_version": 3,
     "solution": false,
     "task": false
    }
   },
   "source": [
    "The code below will assign the prices data series and price_requests data series to the two variables to make them available throughout the project."
   ]
  },
  {
   "cell_type": "code",
   "execution_count": 66,
   "execution_state": "idle",
   "metadata": {
    "deletable": false,
    "editable": false,
    "nbgrader": {
     "cell_type": "code",
     "checksum": "9a588a16dc20f209963f264d1fca73c4",
     "grade": false,
     "grade_id": "cell-9baf2c67e380131a",
     "locked": true,
     "schema_version": 3,
     "solution": false,
     "task": false
    }
   },
   "outputs": [],
   "source": [
    "prices = Data.get_price_series(\"PricestoFeedserver\")\n",
    "price_requests = Data.get_price_requests(\"PriceRequeststoFeedserver\")"
   ]
  },
  {
   "cell_type": "markdown",
   "metadata": {
    "deletable": false,
    "editable": false,
    "nbgrader": {
     "cell_type": "markdown",
     "checksum": "bc6d3b06b76825d09cfd056e115e15a9",
     "grade": false,
     "grade_id": "cell-6d01bcc8e93638af",
     "locked": true,
     "schema_version": 3,
     "solution": false,
     "task": false
    }
   },
   "source": [
    "### a) Iterate through the first ten price requests and append to the test_requests list.\n",
    "\n",
    "The price requests are being reduced to just 10 items to allow for easier creation of an algorithm on a smaller dataset."
   ]
  },
  {
   "cell_type": "code",
   "execution_count": 67,
   "execution_state": "idle",
   "metadata": {
    "deletable": false,
    "editable": false,
    "nbgrader": {
     "cell_type": "code",
     "checksum": "a74a8bb6b21dd24f478dc83643054acf",
     "grade": false,
     "grade_id": "cell-1f49f81516872c0a",
     "locked": true,
     "schema_version": 3,
     "solution": false,
     "task": false
    }
   },
   "outputs": [
    {
     "data": {
      "text/html": [
       "\n",
       "        <iframe\n",
       "            width=\"400\"\n",
       "            height=\"300\"\n",
       "            src=\"https://player.vimeo.com/video/744733424?h=f4a831df4d\"\n",
       "            frameborder=\"0\"\n",
       "            allowfullscreen\n",
       "            \n",
       "        ></iframe>\n",
       "        "
      ],
      "text/plain": [
       "<IPython.lib.display.VimeoVideo at 0x7fea112dedd0>"
      ]
     },
     "execution_count": 67,
     "metadata": {},
     "output_type": "execute_result"
    }
   ],
   "source": [
    "VimeoVideo('744733424?h=f4a831df4d')"
   ]
  },
  {
   "cell_type": "code",
   "execution_count": 68,
   "execution_state": "idle",
   "metadata": {
    "deletable": false,
    "editable": false,
    "nbgrader": {
     "cell_type": "code",
     "checksum": "7191977fbabd42392987c14f75919712",
     "grade": false,
     "grade_id": "cell-9bdafaf242375e9d",
     "locked": true,
     "schema_version": 3,
     "solution": false,
     "task": false
    }
   },
   "outputs": [],
   "source": [
    "test_requests = []"
   ]
  },
  {
   "cell_type": "code",
   "execution_count": 69,
   "execution_state": "idle",
   "metadata": {
    "deletable": false,
    "nbgrader": {
     "cell_type": "code",
     "checksum": "2b2920e31730ff07d7fac3cf55a64bcf",
     "grade": false,
     "grade_id": "cell-99b8ed7168ecabab",
     "locked": false,
     "schema_version": 3,
     "solution": true,
     "task": false
    }
   },
   "outputs": [
    {
     "name": "stdout",
     "output_type": "stream",
     "text": [
      "Index: 0, Price: ['AAPL', 0, 74.7], Request: ['FB', 0, 3010]\n",
      "Index: 1, Price: ['FAANG', 0, 117.0], Request: ['AAPL', 10000, 6929]\n",
      "Index: 2, Price: ['FB', 0, 194.44], Request: ['FB', 30000, 7015]\n",
      "Index: 3, Price: ['AAPL', 5000, 74.81], Request: ['FB', 70000, 4910]\n",
      "Index: 4, Price: ['FAANG', 5000, 117.27], Request: ['AAPL', 105000, 5783]\n",
      "Index: 5, Price: ['FB', 5000, 193.53], Request: ['AAPL', 110000, 3280]\n",
      "Index: 6, Price: ['AAPL', 10000, 74.63], Request: ['FB', 115000, 2465]\n",
      "Index: 7, Price: ['FAANG', 10000, 120.36], Request: ['AAPL', 120000, 656]\n",
      "Index: 8, Price: ['FB', 10000, 195.91], Request: ['FB', 130000, 1948]\n",
      "Index: 9, Price: ['AAPL', 15000, 73.83], Request: ['FB', 150000, 1386]\n"
     ]
    }
   ],
   "source": [
    "for index in range(0, 10):  # Select the first ten prices in the data.\n",
    "    price = prices[index]\n",
    "    request = price_requests[index]\n",
    "\n",
    "    print(f\"Index: {index}, Price: {price}, Request: {request}\")"
   ]
  },
  {
   "cell_type": "markdown",
   "metadata": {},
   "source": [
    "Now that you have appended the items to **test_requests** you can find them in the output below.\n",
    "\n",
    "The output should follow the format **[ [ ticker, date, volume ], [ ticker, date, volume ], ... ]**"
   ]
  },
  {
   "cell_type": "code",
   "execution_count": 70,
   "execution_state": "idle",
   "metadata": {
    "deletable": false,
    "editable": false,
    "nbgrader": {
     "cell_type": "code",
     "checksum": "52021f3cd162f3afc0aff8087c73930d",
     "grade": false,
     "grade_id": "cell-adc7f93cc7ea51cb",
     "locked": true,
     "schema_version": 3,
     "solution": false,
     "task": false
    }
   },
   "outputs": [
    {
     "name": "stdout",
     "output_type": "stream",
     "text": [
      "[]\n"
     ]
    }
   ],
   "source": [
    "print(test_requests)"
   ]
  },
  {
   "cell_type": "markdown",
   "metadata": {
    "deletable": false,
    "editable": false,
    "nbgrader": {
     "cell_type": "markdown",
     "checksum": "3156e9b9d2038828ac86b9eb673f4ae8",
     "grade": false,
     "grade_id": "cell-25a3b2ee03baf3fb",
     "locked": true,
     "schema_version": 3,
     "solution": false,
     "task": false
    }
   },
   "source": [
    "##### The cell below is used to grade the work after the event. You do not need to do anything here."
   ]
  },
  {
   "cell_type": "code",
   "execution_count": 71,
   "execution_state": "idle",
   "metadata": {
    "deletable": false,
    "editable": false,
    "nbgrader": {
     "cell_type": "code",
     "checksum": "6b7a58d060182f70a2280ca49362fe61",
     "grade": true,
     "grade_id": "cell-e9a97c2f5d8e24e9",
     "locked": true,
     "points": 1,
     "schema_version": 3,
     "solution": false,
     "task": false
    }
   },
   "outputs": [],
   "source": [
    "# GRADING CELL"
   ]
  },
  {
   "cell_type": "markdown",
   "metadata": {
    "deletable": false,
    "editable": false,
    "nbgrader": {
     "cell_type": "markdown",
     "checksum": "499bc94afb04640d69b35128ea0cd976",
     "grade": false,
     "grade_id": "cell-1d4449695087e718",
     "locked": true,
     "schema_version": 3,
     "solution": false,
     "task": false
    }
   },
   "source": [
    "### b) Identify the reference prices for the first ten requests\n",
    "\n",
    "Now iterate through the *test_requests* and match them with the relevant *date* and *ticker* in the *prices* variable. Store these reference prices and price_requests in a list called *request_with_prices*.\n",
    "\n",
    "#### request_with_prices should be in the format [ ([price requests], ref_price), ([price requests], ref_price), ...  ]"
   ]
  },
  {
   "cell_type": "code",
   "execution_count": 72,
   "execution_state": "idle",
   "metadata": {
    "deletable": false,
    "editable": false,
    "nbgrader": {
     "cell_type": "code",
     "checksum": "b5e2087106cb6cfb72487adc5559d28f",
     "grade": false,
     "grade_id": "cell-105a9ef6b958060a",
     "locked": true,
     "schema_version": 3,
     "solution": false,
     "task": false
    }
   },
   "outputs": [
    {
     "data": {
      "text/html": [
       "\n",
       "        <iframe\n",
       "            width=\"400\"\n",
       "            height=\"300\"\n",
       "            src=\"https://player.vimeo.com/video/744733584?h=7b0768fc51\"\n",
       "            frameborder=\"0\"\n",
       "            allowfullscreen\n",
       "            \n",
       "        ></iframe>\n",
       "        "
      ],
      "text/plain": [
       "<IPython.lib.display.VimeoVideo at 0x7fea112df700>"
      ]
     },
     "execution_count": 72,
     "metadata": {},
     "output_type": "execute_result"
    }
   ],
   "source": [
    "VimeoVideo('744733584?h=7b0768fc51')"
   ]
  },
  {
   "cell_type": "code",
   "execution_count": 73,
   "execution_state": "idle",
   "metadata": {
    "deletable": false,
    "editable": false,
    "nbgrader": {
     "cell_type": "code",
     "checksum": "923cf750c731323ebf74c6dadff34b56",
     "grade": false,
     "grade_id": "cell-b56b7fa1431f6b80",
     "locked": true,
     "schema_version": 3,
     "solution": false,
     "task": false
    }
   },
   "outputs": [],
   "source": [
    "request_with_prices = []"
   ]
  },
  {
   "cell_type": "code",
   "execution_count": 74,
   "execution_state": "idle",
   "metadata": {
    "deletable": false,
    "nbgrader": {
     "cell_type": "code",
     "checksum": "715bd3867218867466e1760ffc6439b8",
     "grade": false,
     "grade_id": "cell-0477647161607c09",
     "locked": false,
     "schema_version": 3,
     "solution": true,
     "task": false
    }
   },
   "outputs": [],
   "source": [
    "import numpy as np\n",
    "\n",
    "def create_request_with_prices(prices, price_requests):\n",
    "    \"\"\"\n",
    "    Matches all price requests with their corresponding reference prices.\n",
    "\n",
    "    Args:\n",
    "        prices: A list of lists representing prices, with each inner list \n",
    "                in the format [ticker, date/index, price].\n",
    "        price_requests: A list of lists representing price requests, with each \n",
    "                       inner list in the format [ticker, date/index, volume].\n",
    "\n",
    "    Returns:\n",
    "        A list of tuples, where each tuple contains a price request and its \n",
    "        corresponding reference price: \n",
    "        [([price request], ref_price), ([price request], ref_price), ...].\n",
    "    \"\"\"\n",
    "\n",
    "    # Convert to NumPy arrays for efficient operations\n",
    "    prices_arr = np.array(prices, dtype=object)\n",
    "    price_requests_arr = np.array(price_requests, dtype=object)\n",
    "\n",
    "    # Match requests with prices and create request_with_prices\n",
    "    request_with_prices = []\n",
    "\n",
    "    for request in price_requests_arr:  # Iterate through all price requests\n",
    "        ticker, req_index, _ = request  # Extract ticker and request index\n",
    "\n",
    "        # Find matching price using boolean indexing\n",
    "        matching_price_index = np.where((prices_arr[:, 0] == ticker) & (prices_arr[:, 1] == req_index))[0]\n",
    "\n",
    "        if matching_price_index.size > 0:\n",
    "            ref_price = prices_arr[matching_price_index[0], 2]\n",
    "            request_with_prices.append((request, ref_price))\n",
    "\n",
    "    return request_with_prices"
   ]
  },
  {
   "cell_type": "code",
   "execution_count": 75,
   "execution_state": "idle",
   "metadata": {},
   "outputs": [],
   "source": [
    "request_with_prices = create_request_with_prices(prices,price_requests)[:10]"
   ]
  },
  {
   "cell_type": "markdown",
   "metadata": {
    "deletable": false,
    "editable": false,
    "nbgrader": {
     "cell_type": "markdown",
     "checksum": "ad930cfc9cbe3e7aceb42c38186a425a",
     "grade": false,
     "grade_id": "cell-6a12060e42fe9365",
     "locked": true,
     "schema_version": 3,
     "solution": false,
     "task": false
    }
   },
   "source": [
    "Run the cell below to check the output for test_requests.\n",
    "\n",
    "##### The output from test_requests should be in the format: [ ( [price requests], ref_price ), ( [price requests], ref_price ), ... ]"
   ]
  },
  {
   "cell_type": "code",
   "execution_count": 76,
   "execution_state": "idle",
   "metadata": {
    "deletable": false,
    "editable": false,
    "nbgrader": {
     "cell_type": "code",
     "checksum": "8c17584499a821a613bcd67656ca28ec",
     "grade": false,
     "grade_id": "cell-3f2db2da4086b547",
     "locked": true,
     "schema_version": 3,
     "solution": false,
     "task": false
    }
   },
   "outputs": [
    {
     "name": "stdout",
     "output_type": "stream",
     "text": [
      "[(array(['FB', 0, 3010], dtype=object), 194.44), (array(['AAPL', 10000, 6929], dtype=object), 74.63), (array(['FB', 30000, 7015], dtype=object), 195.75), (array(['FB', 70000, 4910], dtype=object), 193.3), (array(['AAPL', 105000, 5783], dtype=object), 73.13), (array(['AAPL', 110000, 3280], dtype=object), 73.83), (array(['FB', 115000, 2465], dtype=object), 185.76), (array(['AAPL', 120000, 656], dtype=object), 76.56), (array(['FB', 130000, 1948], dtype=object), 191.32), (array(['FB', 150000, 1386], dtype=object), 195.82)]\n"
     ]
    }
   ],
   "source": [
    "print(request_with_prices)"
   ]
  },
  {
   "cell_type": "markdown",
   "metadata": {
    "deletable": false,
    "editable": false,
    "nbgrader": {
     "cell_type": "markdown",
     "checksum": "40659a7eb01f8169efe4b672f59f733c",
     "grade": false,
     "grade_id": "cell-2d340453b292d4ab",
     "locked": true,
     "schema_version": 3,
     "solution": false,
     "task": false
    }
   },
   "source": [
    "\n",
    "##### The cell below is used to grade the work after the event. You do not need to do anything here."
   ]
  },
  {
   "cell_type": "code",
   "execution_count": 77,
   "execution_state": "idle",
   "metadata": {
    "deletable": false,
    "editable": false,
    "nbgrader": {
     "cell_type": "code",
     "checksum": "ec78ea6f6773d68628d2f298b5a461fe",
     "grade": true,
     "grade_id": "cell-f12ce7c5321e77ae",
     "locked": true,
     "points": 1,
     "schema_version": 3,
     "solution": false,
     "task": false
    }
   },
   "outputs": [],
   "source": [
    "# GRADING CELL"
   ]
  },
  {
   "cell_type": "markdown",
   "metadata": {
    "deletable": false,
    "editable": false,
    "nbgrader": {
     "cell_type": "markdown",
     "checksum": "7a5944f1a0e5a394e7e0465842466edb",
     "grade": false,
     "grade_id": "cell-9d946755bc1a9840",
     "locked": true,
     "schema_version": 3,
     "solution": false,
     "task": false
    }
   },
   "source": [
    "### c) Create a non-skewed bid and offer for the request_with_prices\n",
    "\n",
    "Now that you have paired the Request with a Reference Price you can create your bid and offer. We will be using Object Oriented Programming here to pass our trade to the Hedge Fund later on.\n",
    "\n",
    "### **QuotedTrade object**\n",
    "This object will be used to quote trades and send them to the hedge funds. The object contains the following attributes:\n",
    "* ticker: String\n",
    "* trade_volume: Integer\n",
    "* ref_price: Float\n",
    "* bid_price: Float\n",
    "* offer_price: Float\n",
    "* date: Integer"
   ]
  },
  {
   "cell_type": "code",
   "execution_count": 78,
   "execution_state": "idle",
   "metadata": {
    "deletable": false,
    "editable": false,
    "nbgrader": {
     "cell_type": "code",
     "checksum": "4585b31ea3ad6a0bdf731860e1807caa",
     "grade": false,
     "grade_id": "cell-12b37246a4e887f5",
     "locked": true,
     "schema_version": 3,
     "solution": false,
     "task": false
    }
   },
   "outputs": [
    {
     "data": {
      "text/html": [
       "\n",
       "        <iframe\n",
       "            width=\"400\"\n",
       "            height=\"300\"\n",
       "            src=\"https://player.vimeo.com/video/744733708?h=0973a3bbe4\"\n",
       "            frameborder=\"0\"\n",
       "            allowfullscreen\n",
       "            \n",
       "        ></iframe>\n",
       "        "
      ],
      "text/plain": [
       "<IPython.lib.display.VimeoVideo at 0x7fea112df3a0>"
      ]
     },
     "execution_count": 78,
     "metadata": {},
     "output_type": "execute_result"
    }
   ],
   "source": [
    "VimeoVideo('744733708?h=0973a3bbe4')"
   ]
  },
  {
   "cell_type": "code",
   "execution_count": 79,
   "execution_state": "idle",
   "metadata": {
    "deletable": false,
    "editable": false,
    "nbgrader": {
     "cell_type": "code",
     "checksum": "6920e8e4bc3595ebe343fe659cc9cced",
     "grade": false,
     "grade_id": "cell-72c52dc77d98b645",
     "locked": true,
     "schema_version": 3,
     "solution": false,
     "task": false
    }
   },
   "outputs": [],
   "source": [
    "class QuotedTrade:\n",
    "    def __init__(self, ticker, trade_volume, ref_price, bid_price, offer_price,\n",
    "                 date):\n",
    "        self.ticker = ticker\n",
    "        self.trade_volume = trade_volume\n",
    "        self.ref_price = ref_price\n",
    "        self.bid_price = bid_price\n",
    "        self.offer_price = offer_price\n",
    "        self.date = date\n",
    "\n",
    "    def __str__(self):\n",
    "        return f'Trade Request for {self.ticker}, {self.trade_volume} shares @ {self.ref_price} on {self.date}. Bid Price: {self.bid_price} and Offer Price: {self.offer_price}'\n",
    "\n",
    "    def __repr__(self):\n",
    "        return f'QuotedTrade(ticker={self.ticker}, trade_volume={self.trade_volume}, ref_price={self.ref_price}, bid_price={self.bid_price}, offer_price={self.offer_price}, date={self.date})'"
   ]
  },
  {
   "cell_type": "markdown",
   "metadata": {
    "deletable": false,
    "editable": false,
    "nbgrader": {
     "cell_type": "markdown",
     "checksum": "784b69e63580f4024b25cded74e1a718",
     "grade": false,
     "grade_id": "cell-b8279455f9c02fa9",
     "locked": true,
     "schema_version": 3,
     "solution": false,
     "task": false
    }
   },
   "source": [
    "Now that you have initialised the QuotedTrade object you can use this as a template for trades.\n",
    "\n",
    "To do this create your bid and offer in the task below by assigning a 2% spread on each side based on the reference price."
   ]
  },
  {
   "cell_type": "code",
   "execution_count": 80,
   "execution_state": "idle",
   "metadata": {
    "deletable": false,
    "editable": false,
    "nbgrader": {
     "cell_type": "code",
     "checksum": "890fd3af76a0967109edaeffe147344f",
     "grade": false,
     "grade_id": "cell-e65e21327f1e8616",
     "locked": true,
     "schema_version": 3,
     "solution": false,
     "task": false
    }
   },
   "outputs": [],
   "source": [
    "quoted_trades = []"
   ]
  },
  {
   "cell_type": "code",
   "execution_count": 81,
   "execution_state": "idle",
   "metadata": {
    "deletable": false,
    "nbgrader": {
     "cell_type": "code",
     "checksum": "5b6d8404478d6c51b006585a39f88442",
     "grade": false,
     "grade_id": "cell-d5d31114b6fa1780",
     "locked": false,
     "schema_version": 3,
     "solution": true,
     "task": false
    }
   },
   "outputs": [],
   "source": [
    "\n",
    "def create_quoted_trades(request_with_prices):\n",
    "    \"\"\"\n",
    "    Creates QuotedTrade objects with a 2% non-skewed spread.\n",
    "\n",
    "    Args:\n",
    "        request_with_prices: A list of tuples in the format \n",
    "                             [([price request], ref_price), ...].\n",
    "\n",
    "    Returns:\n",
    "        A list of QuotedTrade objects.\n",
    "    \"\"\"\n",
    "    quoted_trades = []\n",
    "    for request, ref_price in request_with_prices:\n",
    "        ticker, date, trade_volume = request  # Extract info from the request array\n",
    "        \n",
    "        spread = 0.02  # 2% spread\n",
    "        bid_price = ref_price * (1 - spread / 2)\n",
    "        offer_price = ref_price * (1 + spread / 2)\n",
    "\n",
    "        quoted_trade = QuotedTrade(ticker, trade_volume, ref_price, bid_price, offer_price, date)\n",
    "        quoted_trades.append(quoted_trade)\n",
    "    return quoted_trades"
   ]
  },
  {
   "cell_type": "code",
   "execution_count": 82,
   "execution_state": "idle",
   "metadata": {},
   "outputs": [],
   "source": [
    "quoted_trades = create_quoted_trades(request_with_prices)[:10]"
   ]
  },
  {
   "cell_type": "markdown",
   "metadata": {
    "deletable": false,
    "editable": false,
    "nbgrader": {
     "cell_type": "markdown",
     "checksum": "a7a5faa711663002afafb079dd4e0caa",
     "grade": false,
     "grade_id": "cell-a349fae73dcb9fbd",
     "locked": true,
     "schema_version": 3,
     "solution": false,
     "task": false
    }
   },
   "source": [
    "Run the cell below to check the output for quoted_trades. \n",
    "\n",
    "##### In the output below you should see many QuotedTrade objects with their details."
   ]
  },
  {
   "cell_type": "code",
   "execution_count": 83,
   "execution_state": "idle",
   "metadata": {
    "deletable": false,
    "editable": false,
    "nbgrader": {
     "cell_type": "code",
     "checksum": "45766d50c275e787993258e3070e6ebe",
     "grade": false,
     "grade_id": "cell-baa66e2e7ded583d",
     "locked": true,
     "schema_version": 3,
     "solution": false,
     "task": false
    }
   },
   "outputs": [
    {
     "name": "stdout",
     "output_type": "stream",
     "text": [
      "[QuotedTrade(ticker=FB, trade_volume=3010, ref_price=194.44, bid_price=192.4956, offer_price=196.3844, date=0), QuotedTrade(ticker=AAPL, trade_volume=6929, ref_price=74.63, bid_price=73.88369999999999, offer_price=75.3763, date=10000), QuotedTrade(ticker=FB, trade_volume=7015, ref_price=195.75, bid_price=193.7925, offer_price=197.7075, date=30000), QuotedTrade(ticker=FB, trade_volume=4910, ref_price=193.3, bid_price=191.36700000000002, offer_price=195.233, date=70000), QuotedTrade(ticker=AAPL, trade_volume=5783, ref_price=73.13, bid_price=72.39869999999999, offer_price=73.8613, date=105000), QuotedTrade(ticker=AAPL, trade_volume=3280, ref_price=73.83, bid_price=73.0917, offer_price=74.5683, date=110000), QuotedTrade(ticker=FB, trade_volume=2465, ref_price=185.76, bid_price=183.9024, offer_price=187.61759999999998, date=115000), QuotedTrade(ticker=AAPL, trade_volume=656, ref_price=76.56, bid_price=75.7944, offer_price=77.32560000000001, date=120000), QuotedTrade(ticker=FB, trade_volume=1948, ref_price=191.32, bid_price=189.4068, offer_price=193.23319999999998, date=130000), QuotedTrade(ticker=FB, trade_volume=1386, ref_price=195.82, bid_price=193.8618, offer_price=197.7782, date=150000)]\n"
     ]
    }
   ],
   "source": [
    "print(quoted_trades)"
   ]
  },
  {
   "cell_type": "markdown",
   "metadata": {
    "deletable": false,
    "editable": false,
    "nbgrader": {
     "cell_type": "markdown",
     "checksum": "7a2d233ae87a3f853b2befece9bd1189",
     "grade": false,
     "grade_id": "cell-2ae071e75bb25318",
     "locked": true,
     "schema_version": 3,
     "solution": false,
     "task": false
    }
   },
   "source": [
    "##### The cell below is used to grade the work after the event. You do not need to do anything here."
   ]
  },
  {
   "cell_type": "code",
   "execution_count": 84,
   "execution_state": "idle",
   "metadata": {
    "deletable": false,
    "editable": false,
    "nbgrader": {
     "cell_type": "code",
     "checksum": "9324dc9f85637d34d0866ec347b55de0",
     "grade": true,
     "grade_id": "cell-106ce2201a6a2fbc",
     "locked": true,
     "points": 1,
     "schema_version": 3,
     "solution": false,
     "task": false
    }
   },
   "outputs": [],
   "source": [
    "# GRADING CELL"
   ]
  },
  {
   "cell_type": "markdown",
   "metadata": {
    "deletable": false,
    "editable": false,
    "nbgrader": {
     "cell_type": "markdown",
     "checksum": "cd6f2285b0becc7a8d54acb304375c37",
     "grade": false,
     "grade_id": "cell-3ec62f4d803fadfe",
     "locked": true,
     "schema_version": 3,
     "solution": false,
     "task": false
    }
   },
   "source": [
    "### d) Interact with the Hedge Fund to Show quoted_trades and recieve a response.\n",
    "\n",
    "Using the *quoted_trades* list interact with the HF object to receive a \"Buy, Sell, Refuse\" response from the HF and store these *HfResponse* objects in an list called *hf_responses*.\n",
    "\n",
    "##### Sends the quoted_trade object to the hedge fund to make a decision for a trade.\n",
    "```python\n",
    "hf.show(QuotedTrade)\n",
    "```\n",
    "***Parameters:***\n",
    "* QuotedTrade: Custom Object\n",
    "\n",
    "***Returns:***\n",
    "* HfResponse( ticker: String, trade_volume: Integer, trade_price: Float, hf_action: String, ref_price: Float, bid_price: Float, offer_price: Float, date: Integer )"
   ]
  },
  {
   "cell_type": "code",
   "execution_count": 85,
   "execution_state": "idle",
   "metadata": {
    "deletable": false,
    "editable": false,
    "nbgrader": {
     "cell_type": "code",
     "checksum": "a0c69d7ddfe9f843ff525ec6578f897e",
     "grade": false,
     "grade_id": "cell-7e4b55b9541c4a34",
     "locked": true,
     "schema_version": 3,
     "solution": false,
     "task": false
    }
   },
   "outputs": [
    {
     "data": {
      "text/html": [
       "\n",
       "        <iframe\n",
       "            width=\"400\"\n",
       "            height=\"300\"\n",
       "            src=\"https://player.vimeo.com/video/744734042?h=54b48fb5bb\"\n",
       "            frameborder=\"0\"\n",
       "            allowfullscreen\n",
       "            \n",
       "        ></iframe>\n",
       "        "
      ],
      "text/plain": [
       "<IPython.lib.display.VimeoVideo at 0x7fea1139dd50>"
      ]
     },
     "execution_count": 85,
     "metadata": {},
     "output_type": "execute_result"
    }
   ],
   "source": [
    "VimeoVideo('744734042?h=54b48fb5bb')"
   ]
  },
  {
   "cell_type": "code",
   "execution_count": 86,
   "execution_state": "idle",
   "metadata": {
    "deletable": false,
    "editable": false,
    "nbgrader": {
     "cell_type": "code",
     "checksum": "e7b35539d334a925ba6fbf6e70831d0c",
     "grade": false,
     "grade_id": "cell-016d41309d106a52",
     "locked": true,
     "schema_version": 3,
     "solution": false,
     "task": false
    }
   },
   "outputs": [],
   "source": [
    "hf_responses = []"
   ]
  },
  {
   "cell_type": "code",
   "execution_count": 87,
   "execution_state": "idle",
   "metadata": {
    "deletable": false,
    "nbgrader": {
     "cell_type": "code",
     "checksum": "3507d4d393e9810cb137a084b9596151",
     "grade": false,
     "grade_id": "cell-f6106fcbf78adf23",
     "locked": false,
     "schema_version": 3,
     "solution": true,
     "task": false
    }
   },
   "outputs": [],
   "source": [
    "def get_hf_responses(quoted_trades):\n",
    "    hf_responses = []\n",
    "    for trade in quoted_trades:\n",
    "        response = hf.show(trade)\n",
    "        hf_responses.append(response)\n",
    "    return hf_responses"
   ]
  },
  {
   "cell_type": "markdown",
   "metadata": {
    "deletable": false,
    "editable": false,
    "nbgrader": {
     "cell_type": "markdown",
     "checksum": "20d246b977b74dcd613f61f9d5d16d2b",
     "grade": false,
     "grade_id": "cell-418c8973f359240a",
     "locked": true,
     "schema_version": 3,
     "solution": false,
     "task": false
    }
   },
   "source": [
    "Run the cell below to check the output for the responses from the Hedge Fund. \n",
    "\n",
    "##### In the output below you should see many HfResponse objects with their details."
   ]
  },
  {
   "cell_type": "code",
   "execution_count": 88,
   "execution_state": "idle",
   "metadata": {},
   "outputs": [],
   "source": [
    "hf_responses = get_hf_responses(quoted_trades)[:10]"
   ]
  },
  {
   "cell_type": "code",
   "execution_count": 89,
   "execution_state": "idle",
   "metadata": {
    "deletable": false,
    "editable": false,
    "nbgrader": {
     "cell_type": "code",
     "checksum": "39e6419fbd1e20d3618ab289dc800160",
     "grade": false,
     "grade_id": "cell-445888e408bf1715",
     "locked": true,
     "schema_version": 3,
     "solution": false,
     "task": false
    }
   },
   "outputs": [
    {
     "name": "stdout",
     "output_type": "stream",
     "text": [
      "[HfResponse(ticker=FB, trade_volume=3010, trade_price=192.4956, hf_action=sell, ref_price=194.44, bid_price=192.4956, offer_price=196.3844, date=0), HfResponse(ticker=AAPL, trade_volume=6929, trade_price=73.88369999999999, hf_action=sell, ref_price=74.63, bid_price=73.88369999999999, offer_price=75.3763, date=10000), HfResponse(ticker=FB, trade_volume=7015, trade_price=197.7075, hf_action=buy, ref_price=195.75, bid_price=193.7925, offer_price=197.7075, date=30000), HfResponse(ticker=FB, trade_volume=4910, trade_price=195.233, hf_action=buy, ref_price=193.3, bid_price=191.36700000000002, offer_price=195.233, date=70000), HfResponse(ticker=AAPL, trade_volume=5783, trade_price=73.8613, hf_action=buy, ref_price=73.13, bid_price=72.39869999999999, offer_price=73.8613, date=105000), HfResponse(ticker=AAPL, trade_volume=3280, trade_price=74.5683, hf_action=buy, ref_price=73.83, bid_price=73.0917, offer_price=74.5683, date=110000), HfResponse(ticker=FB, trade_volume=2465, trade_price=187.61759999999998, hf_action=buy, ref_price=185.76, bid_price=183.9024, offer_price=187.61759999999998, date=115000), HfResponse(ticker=AAPL, trade_volume=656, trade_price=77.32560000000001, hf_action=buy, ref_price=76.56, bid_price=75.7944, offer_price=77.32560000000001, date=120000), HfResponse(ticker=FB, trade_volume=1948, trade_price=189.4068, hf_action=sell, ref_price=191.32, bid_price=189.4068, offer_price=193.23319999999998, date=130000), HfResponse(ticker=FB, trade_volume=1386, trade_price=193.8618, hf_action=sell, ref_price=195.82, bid_price=193.8618, offer_price=197.7782, date=150000)]\n"
     ]
    }
   ],
   "source": [
    "print(hf_responses)"
   ]
  },
  {
   "cell_type": "markdown",
   "metadata": {
    "deletable": false,
    "editable": false,
    "nbgrader": {
     "cell_type": "markdown",
     "checksum": "a3f1a7ceb1615556019d901da2acdf5c",
     "grade": false,
     "grade_id": "cell-8b97d29e3d7a569d",
     "locked": true,
     "schema_version": 3,
     "solution": false,
     "task": false
    }
   },
   "source": [
    "##### The cell below is used to grade the work after the event. You do not need to do anything here."
   ]
  },
  {
   "cell_type": "code",
   "execution_count": 90,
   "execution_state": "idle",
   "metadata": {
    "deletable": false,
    "editable": false,
    "nbgrader": {
     "cell_type": "code",
     "checksum": "54370f4d2b4070b6f7c25052967676f2",
     "grade": true,
     "grade_id": "cell-e0e2f0e2c0c47ed2",
     "locked": true,
     "points": 1,
     "schema_version": 3,
     "solution": false,
     "task": false
    }
   },
   "outputs": [],
   "source": [
    "# GRADING CELL"
   ]
  },
  {
   "cell_type": "markdown",
   "metadata": {
    "deletable": false,
    "editable": false,
    "nbgrader": {
     "cell_type": "markdown",
     "checksum": "43f032b9a3a87fcddf1b14ac297b7990",
     "grade": false,
     "grade_id": "cell-0e50484308b8ffb1",
     "locked": true,
     "schema_version": 3,
     "solution": false,
     "task": false
    }
   },
   "source": [
    "## e) Begin logging your actions with the Market Maker class and functions.\n",
    "\n",
    "### Initialise the Market Maker Object\n",
    "\n",
    "To be able to use the Market Maker in this simulation we run the code in the cell below to create the object. The Market Maker object contains the following properities.\n",
    "\n",
    "#### Market Maker object contains:\n",
    "* current_positions: Dictionary of current_position objects - {ticker: String, current_position: Object}\n",
    "  * current_position: Custom Object\n",
    "    * ticker: String\n",
    "    * position_volume: Integer\n",
    "    * open_price: Float\n",
    "    * date: Integer\n",
    "* quoted_trades: List of quoted_trade objects - [quoted_trade, quoted_trade, …]\n",
    "  * quoted_trade: Custom Object\n",
    "* completed_trades: List of completed_trade objects - [completed_trade, completed_trade, ...]\n",
    "  * completed_trade: Custom Object\n",
    "* ETF_positions: List of completed_trade objects - [completed_trade, completed_trade, ...]\n",
    "  * completed_trade: Custom Object\n"
   ]
  },
  {
   "cell_type": "code",
   "execution_count": 91,
   "execution_state": "idle",
   "metadata": {
    "deletable": false,
    "editable": false,
    "nbgrader": {
     "cell_type": "code",
     "checksum": "efff336979fe54b36239f0bd5cb4d0fb",
     "grade": false,
     "grade_id": "cell-630635aa52a34570",
     "locked": true,
     "schema_version": 3,
     "solution": false,
     "task": false
    }
   },
   "outputs": [
    {
     "data": {
      "text/html": [
       "\n",
       "        <iframe\n",
       "            width=\"400\"\n",
       "            height=\"300\"\n",
       "            src=\"https://player.vimeo.com/video/744734268?h=47a777836e\"\n",
       "            frameborder=\"0\"\n",
       "            allowfullscreen\n",
       "            \n",
       "        ></iframe>\n",
       "        "
      ],
      "text/plain": [
       "<IPython.lib.display.VimeoVideo at 0x7fea1139ead0>"
      ]
     },
     "execution_count": 91,
     "metadata": {},
     "output_type": "execute_result"
    }
   ],
   "source": [
    "VimeoVideo('744734268?h=47a777836e')"
   ]
  },
  {
   "cell_type": "code",
   "execution_count": 92,
   "execution_state": "idle",
   "metadata": {
    "deletable": false,
    "editable": false,
    "nbgrader": {
     "cell_type": "code",
     "checksum": "a44920a859432a682aa46e52a28ac36e",
     "grade": false,
     "grade_id": "cell-e594040914e04f9c",
     "locked": true,
     "schema_version": 3,
     "solution": false,
     "task": false
    }
   },
   "outputs": [],
   "source": [
    "mm = MarketMaker.mm()"
   ]
  },
  {
   "cell_type": "markdown",
   "metadata": {
    "deletable": false,
    "editable": false,
    "nbgrader": {
     "cell_type": "markdown",
     "checksum": "0719b5d712069bb505f2af2f38394fa9",
     "grade": false,
     "grade_id": "cell-2eb48c71b1867f57",
     "locked": true,
     "schema_version": 3,
     "solution": false,
     "task": false
    }
   },
   "source": [
    " As a Market Maker, it is imperative to keep a log of the trades quoted and clients' responses. As a result, interact with the MM object to store the quoted_trades lists into the logs.\n",
    "\n",
    "#### Add a trade to Market Makers history\n",
    "```python\n",
    "mm.add_quoted_trade(QuotedTrade)\n",
    "```\n",
    "***Parameters:***\n",
    "* QuotedTrade: Custom Object\n",
    "\n",
    "***Returns:***\n",
    "* String: Indicating a successfully added trade or failed added trade."
   ]
  },
  {
   "cell_type": "code",
   "execution_count": 94,
   "execution_state": "idle",
   "metadata": {
    "deletable": false,
    "nbgrader": {
     "cell_type": "code",
     "checksum": "1d2aa9fa4a50272d1c1d7c6867899098",
     "grade": false,
     "grade_id": "cell-cb05edf6a52feea0",
     "locked": false,
     "schema_version": 3,
     "solution": true,
     "task": false
    }
   },
   "outputs": [],
   "source": [
    "for quote in quoted_trades:\n",
    "    mm.add_quoted_trade(QuotedTrade)"
   ]
  },
  {
   "cell_type": "markdown",
   "metadata": {
    "deletable": false,
    "editable": false,
    "nbgrader": {
     "cell_type": "markdown",
     "checksum": "91ec77590cb6a66cf88222b02d9dbcab",
     "grade": false,
     "grade_id": "cell-eeb102c5e3ffdac1",
     "locked": true,
     "schema_version": 3,
     "solution": false,
     "task": false
    }
   },
   "source": [
    "Run the cell below to check the output for market maker quoted_trades. \n",
    "\n",
    "##### In the output below you should see many QuotedTrade objects with their details."
   ]
  },
  {
   "cell_type": "code",
   "execution_count": 95,
   "execution_state": "idle",
   "metadata": {
    "deletable": false,
    "editable": false,
    "nbgrader": {
     "cell_type": "code",
     "checksum": "a271d2500aa5a1d41fca48b20a57ab0b",
     "grade": false,
     "grade_id": "cell-3f5209199c32b9fa",
     "locked": true,
     "schema_version": 3,
     "solution": false,
     "task": false
    }
   },
   "outputs": [
    {
     "name": "stdout",
     "output_type": "stream",
     "text": [
      "[<class '__main__.QuotedTrade'>, <class '__main__.QuotedTrade'>, <class '__main__.QuotedTrade'>, <class '__main__.QuotedTrade'>, <class '__main__.QuotedTrade'>, <class '__main__.QuotedTrade'>, <class '__main__.QuotedTrade'>, <class '__main__.QuotedTrade'>, <class '__main__.QuotedTrade'>, <class '__main__.QuotedTrade'>]\n"
     ]
    }
   ],
   "source": [
    "print(mm.quoted_trades)"
   ]
  },
  {
   "cell_type": "markdown",
   "metadata": {
    "deletable": false,
    "editable": false,
    "nbgrader": {
     "cell_type": "markdown",
     "checksum": "76b1cd94779c18b0375aa87c8ff4dbdc",
     "grade": false,
     "grade_id": "cell-ead8b967d22ecc43",
     "locked": true,
     "schema_version": 3,
     "solution": false,
     "task": false
    }
   },
   "source": [
    "### Create another object to be used during this event following a similar structure to the QuotedTrade class.\n",
    "\n",
    "**Create a CompletedTrade object**\n",
    "\n",
    "This object will be used to log successful trades to the market maker object. The object should contain the following attributes:\n",
    "* ticker: String\n",
    "* trade_volume: Integer\n",
    "* trade_price: Float\n",
    "* mm_action: String\n",
    "* ref_price: Float\n",
    "* bid_price: Float\n",
    "* offer_price: Float\n",
    "* date: Integer"
   ]
  },
  {
   "cell_type": "code",
   "execution_count": 96,
   "execution_state": "idle",
   "metadata": {
    "deletable": false,
    "nbgrader": {
     "cell_type": "code",
     "checksum": "2f8f9c0af111f791b96b8dd726ff488c",
     "grade": false,
     "grade_id": "cell-fb5a051969912f63",
     "locked": false,
     "schema_version": 3,
     "solution": true,
     "task": false
    }
   },
   "outputs": [],
   "source": [
    "class CompletedTrade:\n",
    "    def __init__(self, ticker, trade_volume, trade_price, mm_action, ref_price, bid_price, offer_price, date):\n",
    "        self.ticker = ticker\n",
    "        self.trade_volume = trade_volume\n",
    "        self.trade_price = trade_price\n",
    "        self.mm_action = mm_action\n",
    "        self.ref_price = ref_price\n",
    "        self.bid_price = bid_price\n",
    "        self.offer_price = offer_price\n",
    "        self.date = date"
   ]
  },
  {
   "cell_type": "markdown",
   "metadata": {
    "deletable": false,
    "editable": false,
    "nbgrader": {
     "cell_type": "markdown",
     "checksum": "02210cc08146605deadaec032247a46a",
     "grade": false,
     "grade_id": "cell-aec07b65343676b6",
     "locked": true,
     "schema_version": 3,
     "solution": false,
     "task": false
    }
   },
   "source": [
    "### Interact with the MM object to store the CompletedTrade objects into the logs.\n",
    "\n",
    "#### Update the Market Makers current positions.\n",
    "```python\n",
    "mm.add_trade(CompletedTrade)\n",
    "```\n",
    "***Parameters:***\n",
    "* CompletedTrade: Custom Object\n",
    "\n",
    "***Returns:***\n",
    "* String: Indicating a successfully added trade or failed added trade.\n",
    "\n",
    "#### Throughout this simulation the hf_action has the possibility to be the following: \"buy\", \"sell\" and \"refuse\""
   ]
  },
  {
   "cell_type": "code",
   "execution_count": 97,
   "execution_state": "idle",
   "metadata": {
    "deletable": false,
    "nbgrader": {
     "cell_type": "code",
     "checksum": "71ded18b268ef6584b4ca2105174042a",
     "grade": false,
     "grade_id": "cell-c8f52b102a9edb6a",
     "locked": false,
     "schema_version": 3,
     "solution": true,
     "task": false
    }
   },
   "outputs": [],
   "source": [
    "def add_completed_trades_to_mm(hf_responses):\n",
    "    for response in hf_responses:\n",
    "        if response.hf_action == \"refuse\":\n",
    "            continue  # Skip to the next response if it's \"refuse\"\n",
    "\n",
    "        # Only create CompletedTrade if hf_action is not \"refuse\"\n",
    "        mm_action = \"sell\" if response.hf_action == \"buy\" else \"buy\"\n",
    "        completed_trade = CompletedTrade(\n",
    "            response.ticker,\n",
    "            response.trade_volume,\n",
    "            response.trade_price,\n",
    "            mm_action,\n",
    "            response.ref_price,\n",
    "            response.bid_price,\n",
    "            response.offer_price,\n",
    "            response.date,\n",
    "        )\n",
    "        mm.add_trade(completed_trade)"
   ]
  },
  {
   "cell_type": "code",
   "execution_count": 98,
   "execution_state": "idle",
   "metadata": {},
   "outputs": [],
   "source": [
    "add_completed_trades_to_mm(hf_responses)"
   ]
  },
  {
   "cell_type": "markdown",
   "metadata": {
    "deletable": false,
    "editable": false,
    "nbgrader": {
     "cell_type": "markdown",
     "checksum": "37582af37e83d37d8601ac5829bd158d",
     "grade": false,
     "grade_id": "cell-4793642ce2718d65",
     "locked": true,
     "schema_version": 3,
     "solution": false,
     "task": false
    }
   },
   "source": [
    "Run the cell below to check the output for market maker quoted_trades. \n",
    "\n",
    "##### In the output below you should see many CompletedTrade objects with their details."
   ]
  },
  {
   "cell_type": "code",
   "execution_count": 99,
   "execution_state": "idle",
   "metadata": {
    "deletable": false,
    "editable": false,
    "nbgrader": {
     "cell_type": "code",
     "checksum": "25f47ad3a3c2f662f0889e5ee635bcd2",
     "grade": false,
     "grade_id": "cell-ee1493e2a72fd768",
     "locked": true,
     "schema_version": 3,
     "solution": false,
     "task": false
    }
   },
   "outputs": [
    {
     "name": "stdout",
     "output_type": "stream",
     "text": [
      "[<__main__.CompletedTrade object at 0x7fea1139d480>, <__main__.CompletedTrade object at 0x7fea1139e8c0>, <__main__.CompletedTrade object at 0x7fea1139e590>, <__main__.CompletedTrade object at 0x7fea1139fa00>, <__main__.CompletedTrade object at 0x7fea1139d990>, <__main__.CompletedTrade object at 0x7fea1139d240>, <__main__.CompletedTrade object at 0x7fea1139f910>, <__main__.CompletedTrade object at 0x7fea1139fa90>, <__main__.CompletedTrade object at 0x7fea1139f490>, <__main__.CompletedTrade object at 0x7fea1139cb20>]\n"
     ]
    }
   ],
   "source": [
    "print(mm.completed_trades)"
   ]
  },
  {
   "cell_type": "markdown",
   "metadata": {
    "deletable": false,
    "editable": false,
    "nbgrader": {
     "cell_type": "markdown",
     "checksum": "5d44dd044e5a2f574978aa80c5efc64f",
     "grade": false,
     "grade_id": "cell-e8bf17230d0203d7",
     "locked": true,
     "schema_version": 3,
     "solution": false,
     "task": false
    }
   },
   "source": [
    "##### The cell below is used to grade the work after the event. You do not need to do anything here."
   ]
  },
  {
   "cell_type": "code",
   "execution_count": null,
   "execution_state": "idle",
   "metadata": {
    "deletable": false,
    "editable": false,
    "nbgrader": {
     "cell_type": "code",
     "checksum": "282594aac79b3e4514b36df057b5d6c3",
     "grade": true,
     "grade_id": "cell-92ae5fee0027d4eb",
     "locked": true,
     "points": 1,
     "schema_version": 3,
     "solution": false,
     "task": false
    }
   },
   "outputs": [],
   "source": [
    "# GRADING CELL"
   ]
  },
  {
   "cell_type": "markdown",
   "metadata": {
    "deletable": false,
    "editable": false,
    "nbgrader": {
     "cell_type": "markdown",
     "checksum": "1950ee8cb9cf4907cd48c627c4e6ba08",
     "grade": false,
     "grade_id": "cell-e1ce2acbe9d65639",
     "locked": true,
     "schema_version": 3,
     "solution": false,
     "task": false
    }
   },
   "source": [
    "### f) Create a graphical output for all the AAPL quoted trades.\n",
    "\n",
    "The graph should be created using the matplotlib library. It should show all the quoted trades completed for the ticker AAPL and visualise the *Bid, Offer and Reference Price* against *Date*.\n",
    "\n",
    "#### Initialise the plot with the <python>fig, axes = plt.subplots() </python> function. \n",
    "#### Populate the lists given, and plot them using <python>axes.plot()</python>."
   ]
  },
  {
   "cell_type": "code",
   "execution_count": null,
   "execution_state": "idle",
   "metadata": {
    "deletable": false,
    "editable": false,
    "nbgrader": {
     "cell_type": "code",
     "checksum": "2f6d8ab72554708047a783abbc75f660",
     "grade": false,
     "grade_id": "cell-1067a5569f41a46c",
     "locked": true,
     "schema_version": 3,
     "solution": false,
     "task": false
    }
   },
   "outputs": [],
   "source": [
    "VimeoVideo('744734758?h=5d07d78c62')"
   ]
  },
  {
   "cell_type": "code",
   "execution_count": null,
   "execution_state": "idle",
   "metadata": {
    "deletable": false,
    "nbgrader": {
     "cell_type": "code",
     "checksum": "f659f5d2abc3dcb646dd2f70d66f5d1c",
     "grade": false,
     "grade_id": "cell-ee63e401086f7686",
     "locked": false,
     "schema_version": 3,
     "solution": true,
     "task": false
    }
   },
   "outputs": [],
   "source": [
    "# Initalises the lists to store all the data\n",
    "bid_data = []\n",
    "offer_data = []\n",
    "quote_dates = []\n",
    "\n",
    "for trade in mm.completed_trades: # Iterate through the completed trades to find the AAPL trades and store the data.\n",
    "    # Append the bid_data and offer_data and quote_dates.\n",
    "    # Insert your answer code here"
   ]
  },
  {
   "cell_type": "markdown",
   "metadata": {
    "deletable": false,
    "editable": false,
    "nbgrader": {
     "cell_type": "markdown",
     "checksum": "ad541086e1660ca2d0e5cab54d708443",
     "grade": false,
     "grade_id": "cell-8f76913a7c10dd85",
     "locked": true,
     "schema_version": 3,
     "solution": false,
     "task": false
    }
   },
   "source": [
    "##### In the print statements below you should be able to see equal length lists for each list."
   ]
  },
  {
   "cell_type": "code",
   "execution_count": null,
   "execution_state": "idle",
   "metadata": {
    "deletable": false,
    "editable": false,
    "nbgrader": {
     "cell_type": "code",
     "checksum": "818551955dceb53a4364a42c34a43a70",
     "grade": false,
     "grade_id": "cell-35bfc92204cc0982",
     "locked": true,
     "schema_version": 3,
     "solution": false,
     "task": false
    }
   },
   "outputs": [],
   "source": [
    "print(\"bid_data:\", bid_data)\n",
    "print(\"offer_data:\", offer_data)\n",
    "print(\"quote_dates:\", quote_dates)"
   ]
  },
  {
   "cell_type": "markdown",
   "metadata": {
    "deletable": false,
    "editable": false,
    "nbgrader": {
     "cell_type": "markdown",
     "checksum": "d2026a5155c99141415ef77391b9bedd",
     "grade": false,
     "grade_id": "cell-811ecb8839822f75",
     "locked": true,
     "schema_version": 3,
     "solution": false,
     "task": false
    }
   },
   "source": [
    "The quote_dates, bid_data and offer_data are now assigned to the corresponding list. \n",
    "\n",
    "#### Next find the reference prices for AAPL as we have gaps in our dates."
   ]
  },
  {
   "cell_type": "code",
   "execution_count": null,
   "execution_state": "idle",
   "metadata": {
    "deletable": false,
    "nbgrader": {
     "cell_type": "code",
     "checksum": "f7a241dde57306d8045febae16b251ec",
     "grade": false,
     "grade_id": "cell-2bd8af9c8806005a",
     "locked": false,
     "schema_version": 3,
     "solution": true,
     "task": false
    }
   },
   "outputs": [],
   "source": [
    "# Replace the ? in this task with your answer.\n",
    "\n",
    "ref_data = []\n",
    "ref_dates = []\n",
    "\n",
    "for price in prices: # Iterate through the quotes to find each AAPL ticker and matching price data.\n",
    "    # Add filtering to ensure we find AAPL trades and all trades upto the last quote_dates.\n",
    "    # Append the ref_data and ref_dates\n",
    "    # Insert your answer code here"
   ]
  },
  {
   "cell_type": "markdown",
   "metadata": {
    "deletable": false,
    "editable": false,
    "nbgrader": {
     "cell_type": "markdown",
     "checksum": "31664116b745d3ef09527917ee63e554",
     "grade": false,
     "grade_id": "cell-21a63db85ddbd711",
     "locked": true,
     "schema_version": 3,
     "solution": false,
     "task": false
    }
   },
   "source": [
    "##### In the print statements below you should be able to see equal length lists for each list. The ref_dates should go untill the last quote_dates"
   ]
  },
  {
   "cell_type": "code",
   "execution_count": null,
   "execution_state": "idle",
   "metadata": {
    "deletable": false,
    "editable": false,
    "nbgrader": {
     "cell_type": "code",
     "checksum": "745ddc4e07977b3dba8c5b4839f74154",
     "grade": false,
     "grade_id": "cell-5beac75cf6de3b71",
     "locked": true,
     "schema_version": 3,
     "solution": false,
     "task": false
    }
   },
   "outputs": [],
   "source": [
    "print(\"ref_data:\", ref_data)\n",
    "print(\"ref_dates:\", ref_dates)"
   ]
  },
  {
   "cell_type": "markdown",
   "metadata": {
    "deletable": false,
    "editable": false,
    "nbgrader": {
     "cell_type": "markdown",
     "checksum": "d3940c938e758b1bb533cee00a9690e5",
     "grade": false,
     "grade_id": "cell-b29e85da25279043",
     "locked": true,
     "schema_version": 3,
     "solution": false,
     "task": false
    }
   },
   "source": [
    "#####  Finally we must plot each of the axes."
   ]
  },
  {
   "cell_type": "code",
   "execution_count": null,
   "execution_state": "idle",
   "metadata": {
    "deletable": false,
    "nbgrader": {
     "cell_type": "code",
     "checksum": "9c1d6e99f344ca64ba613bc2d85b7a1c",
     "grade": false,
     "grade_id": "cell-a497c155f275b2bc",
     "locked": false,
     "schema_version": 3,
     "solution": true,
     "task": false
    }
   },
   "outputs": [],
   "source": [
    "axes = plt.subplot() # Creates the Axis.\n",
    "\n",
    "axes.plot(quote_dates, bid_data) # Plot the X and Y axis using the quote_dates and bid_data.\n",
    "\n",
    "# Plot the refData and offerData next\n",
    "# Insert your answer code here"
   ]
  },
  {
   "cell_type": "markdown",
   "metadata": {
    "deletable": false,
    "editable": false,
    "nbgrader": {
     "cell_type": "markdown",
     "checksum": "5fa41e44157bbdca26d55f4dd75e21e0",
     "grade": false,
     "grade_id": "cell-7851b7dd3470c340",
     "locked": true,
     "schema_version": 3,
     "solution": false,
     "task": false
    }
   },
   "source": [
    "##### The cell below is used to grade the work after the event. You do not need to do anything here."
   ]
  },
  {
   "cell_type": "code",
   "execution_count": null,
   "execution_state": "idle",
   "metadata": {
    "deletable": false,
    "editable": false,
    "nbgrader": {
     "cell_type": "code",
     "checksum": "79fbcc607e0b2782287e12b1d934a19c",
     "grade": true,
     "grade_id": "cell-48a06ca8c2b89114",
     "locked": true,
     "points": 1,
     "schema_version": 3,
     "solution": false,
     "task": false
    }
   },
   "outputs": [],
   "source": [
    "# GRADING CELL"
   ]
  },
  {
   "cell_type": "markdown",
   "metadata": {
    "deletable": false,
    "editable": false,
    "nbgrader": {
     "cell_type": "markdown",
     "checksum": "bd63137dcc7e6c437af2eb7eaaa0e8ae",
     "grade": false,
     "grade_id": "cell-bcaeb4e7fc243ab4",
     "locked": true,
     "schema_version": 3,
     "solution": false,
     "task": false
    }
   },
   "source": [
    "![](https://algo-assets.amplifyme.com/quant/challenge2.png)"
   ]
  },
  {
   "cell_type": "markdown",
   "metadata": {
    "deletable": false,
    "editable": false,
    "nbgrader": {
     "cell_type": "markdown",
     "checksum": "485c611ddebb7c29c5c6b77423fa3330",
     "grade": false,
     "grade_id": "986049254f29a0411",
     "locked": true,
     "schema_version": 3,
     "solution": false,
     "task": false
    }
   },
   "source": [
    "# Quant Simulation Challenge 2 - Skewed Price Making\n",
    "\n",
    "In this challenge you must work independently to complete several functions which will now skew your prices based on the position of risk at any given moment of time. This will help show you how to optimize the code.\n",
    "\n",
    "The goal of this challenge is to automate the market-making process, using object-orientated programming to automatically create a bid-offer spread around the reference price. \n",
    "\n",
    "You're expected to provide a 2% non-skewed bid and offer for each trade with no risk.\n",
    "\n",
    "You're expected to provide a 1% non-skewed bid or offer and a 7% skewed bid or offer depending on your risk.\n",
    "\n",
    "Good luck!"
   ]
  },
  {
   "cell_type": "code",
   "execution_count": null,
   "execution_state": "idle",
   "metadata": {
    "deletable": false,
    "editable": false,
    "nbgrader": {
     "cell_type": "code",
     "checksum": "a84fd4411ddeb493667e4ce7d80aabc5",
     "grade": false,
     "grade_id": "cell-8d172d28a243ddb8",
     "locked": true,
     "schema_version": 3,
     "solution": false,
     "task": false
    }
   },
   "outputs": [],
   "source": [
    "VimeoVideo('744735162?h=5b1f522aa1')"
   ]
  },
  {
   "cell_type": "code",
   "execution_count": null,
   "execution_state": "idle",
   "metadata": {
    "deletable": false,
    "editable": false,
    "nbgrader": {
     "cell_type": "code",
     "checksum": "de3ddae30b13c029ab7f63780af8e5d8",
     "grade": false,
     "grade_id": "cell-4cdb572ee805ed6e",
     "locked": true,
     "schema_version": 3,
     "solution": false,
     "task": false
    }
   },
   "outputs": [],
   "source": [
    "mm = MarketMaker.mm()"
   ]
  },
  {
   "cell_type": "markdown",
   "metadata": {
    "deletable": false,
    "editable": false,
    "nbgrader": {
     "cell_type": "markdown",
     "checksum": "7323fab029b72e139c3d3b0a755ddd45",
     "grade": false,
     "grade_id": "cell-a10b92c6347298d2",
     "locked": true,
     "schema_version": 3,
     "solution": false,
     "task": false
    }
   },
   "source": [
    "\n",
    "### a) Using the code learned in challenge 1 apply an algorithm to all price requests and skew based on risk.\n",
    "\n",
    "\n",
    "The functions below have been created in 2 steps to allow you to manage the trade process faster.\n",
    "\n",
    "\n",
    "#### Remember to log any *quoted_trades* and *completed_trades* to your MM object or risk penalties for poor risk management."
   ]
  },
  {
   "cell_type": "markdown",
   "metadata": {
    "deletable": false,
    "editable": false,
    "nbgrader": {
     "cell_type": "markdown",
     "checksum": "593ca1bdc38d60b464d8366a846b59ff",
     "grade": false,
     "grade_id": "cell-ba2e99f48d4a08e9",
     "locked": true,
     "schema_version": 3,
     "solution": false,
     "task": false
    }
   },
   "source": [
    "#### Function 1 - `def calculate_spread(price):` \n",
    "This first function has been mostly done for you, just calculate the bid and offer price. For this function, the *balance* is accessed to determine the firm's risk at any given moment. This information is then used to decide if you're Axed Long, Axed Short or Neutral in your position. This is then reflected in your **bid** and **offer** prices."
   ]
  },
  {
   "cell_type": "code",
   "execution_count": null,
   "execution_state": "idle",
   "metadata": {
    "deletable": false,
    "nbgrader": {
     "cell_type": "code",
     "checksum": "53c6a586e40db8f83765e0fcb45e0b2e",
     "grade": true,
     "grade_id": "cell-d535e23f19aabc1e",
     "locked": false,
     "points": 0,
     "schema_version": 3,
     "solution": true,
     "task": false
    }
   },
   "outputs": [],
   "source": [
    "# Replace the ? in this task with your answer.\n",
    "\n",
    "def calculate_spread(quote):\n",
    "    volume = mm.current_positions[quote[0][0]].position_volume\n",
    "    if volume > 0:\n",
    "        bid_price = ? # Give the bid spread\n",
    "        offer_price = ? # Give the offer spread\n",
    "    # Complete all other scenarios for the volume.\n",
    "    # Create a QuotedTrade to be returned from this function and log it.\n",
    "    # Insert your answer code here\n",
    "    return trade"
   ]
  },
  {
   "cell_type": "markdown",
   "metadata": {
    "deletable": false,
    "editable": false,
    "nbgrader": {
     "cell_type": "markdown",
     "checksum": "fae5e9cfbf49711b5346ae7aaadaccc3",
     "grade": false,
     "grade_id": "cell-02ea185bada81591",
     "locked": true,
     "schema_version": 3,
     "solution": false,
     "task": false
    }
   },
   "source": [
    "#### Function 2 - `def handle_response(trade):` \n",
    "The **QuotedTrade** object is shown using the HF's function, to get the HF's response. You need to handle this response, in order to create your **CompletedTrade** object correctly. Also, log your CompletedTrade object using: `mm.add_trade(CompletedTrade)` ."
   ]
  },
  {
   "cell_type": "code",
   "execution_count": null,
   "execution_state": "idle",
   "metadata": {
    "deletable": false,
    "nbgrader": {
     "cell_type": "code",
     "checksum": "9b378986e9c8102259d2f54677852495",
     "grade": false,
     "grade_id": "cell-af5543333b0ca4bb",
     "locked": false,
     "schema_version": 3,
     "solution": true,
     "task": false
    }
   },
   "outputs": [],
   "source": [
    "def handle_response(trade):\n",
    "    # Add the logic here for handling the response action.\n",
    "    # Create and Store the CompletedTrade into your logs.\n",
    "    # Insert your answer code here"
   ]
  },
  {
   "cell_type": "markdown",
   "metadata": {
    "deletable": false,
    "editable": false,
    "nbgrader": {
     "cell_type": "markdown",
     "checksum": "e769ff36172f9d372f6d4b6c0d83fb20",
     "grade": false,
     "grade_id": "cell-0e3da44f32ab8840",
     "locked": true,
     "schema_version": 3,
     "solution": false,
     "task": false
    }
   },
   "source": [
    "### Run the cell below to call your functions"
   ]
  },
  {
   "cell_type": "code",
   "execution_count": null,
   "execution_state": "idle",
   "metadata": {
    "deletable": false,
    "editable": false,
    "nbgrader": {
     "cell_type": "code",
     "checksum": "ac7f28f9cb6a7012ca49eedf4b49145e",
     "grade": false,
     "grade_id": "cell-2145c65b3e4f35e8",
     "locked": true,
     "schema_version": 3,
     "solution": false,
     "task": false
    }
   },
   "outputs": [],
   "source": [
    "for request in price_requests:\n",
    "    for price in prices:\n",
    "        if price[0] == request[0] and price[1] == request[1]:\n",
    "            quote = calculate_spread( (request, price[2]) )\n",
    "            response = hf.show(quote)\n",
    "            trade = handle_response(response)"
   ]
  },
  {
   "cell_type": "code",
   "execution_count": null,
   "execution_state": "idle",
   "metadata": {
    "deletable": false,
    "editable": false,
    "nbgrader": {
     "cell_type": "code",
     "checksum": "e0b312313738ac4dc35d4d904f0799d5",
     "grade": true,
     "grade_id": "cell-7b49a3c2a6956eab",
     "locked": true,
     "points": 1,
     "schema_version": 3,
     "solution": false,
     "task": false
    }
   },
   "outputs": [],
   "source": [
    "# GRADING CELL"
   ]
  },
  {
   "cell_type": "markdown",
   "metadata": {
    "deletable": false,
    "editable": false,
    "nbgrader": {
     "cell_type": "markdown",
     "checksum": "7823980de63ef1167a4b72b65dd3efd0",
     "grade": false,
     "grade_id": "cell-200fbeedcf2a5d70",
     "locked": true,
     "schema_version": 3,
     "solution": false,
     "task": false
    }
   },
   "source": [
    "### b) Create graphical outputs for all the tickers you quoted_trades\n",
    "\n",
    "#### Similar to the graph created in Chalenge One however it should be done for all the different tickers dealt for the HF client."
   ]
  },
  {
   "cell_type": "code",
   "execution_count": null,
   "execution_state": "idle",
   "metadata": {
    "deletable": false,
    "nbgrader": {
     "cell_type": "code",
     "checksum": "ff0799eb5302584d085f4726b5252e44",
     "grade": false,
     "grade_id": "cell-94618ea7fe2d603a",
     "locked": false,
     "schema_version": 3,
     "solution": true,
     "task": false
    }
   },
   "outputs": [],
   "source": [
    "# Insert your answer code here"
   ]
  }
 ],
 "metadata": {
  "kernelspec": {
   "display_name": "Python 3 (ipykernel)",
   "language": "python",
   "name": "python3"
  },
  "language_info": {
   "codemirror_mode": {
    "name": "ipython",
    "version": 3
   },
   "file_extension": ".py",
   "mimetype": "text/x-python",
   "name": "python",
   "nbconvert_exporter": "python",
   "pygments_lexer": "ipython3",
   "version": "3.10.10"
  }
 },
 "nbformat": 4,
 "nbformat_minor": 4
}
