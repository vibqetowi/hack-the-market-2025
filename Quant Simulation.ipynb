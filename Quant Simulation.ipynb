{
 "cells": [
  {
   "cell_type": "markdown",
   "metadata": {
    "deletable": false,
    "editable": false,
    "nbgrader": {
     "cell_type": "markdown",
     "checksum": "154c1899c51319f0a595322cd32efcd8",
     "grade": false,
     "grade_id": "cell-14a928e807244ec5",
     "locked": true,
     "schema_version": 3,
     "solution": false,
     "task": false
    }
   },
   "source": [
    "![](https://algo-assets.amplifyme.com/quant/challenge1.png)"
   ]
  },
  {
   "cell_type": "markdown",
   "metadata": {
    "deletable": false,
    "editable": false,
    "nbgrader": {
     "cell_type": "markdown",
     "checksum": "da573837a64d802ad5d654ca35750713",
     "grade": false,
     "grade_id": "cell-9d02e3a9d3423fef",
     "locked": true,
     "schema_version": 3,
     "solution": false,
     "task": false
    }
   },
   "source": [
    "# Quant Simulation Challenge 1 - Non-skewed Price Making\n",
    "\n",
    "Your first challenge is to work independently to follow the instructor to complete the challenges below. This will help give you the foundations for the future challenges.\n",
    "\n",
    "The goal of this challenge is to automate the market-making process, using object-orientated programming to automatically create a bid-offer spread around the reference price. You're expected to provide a 2% non-skewed bid and offer for each trade.\n",
    "\n",
    "Good luck!\n",
    "\n",
    "To start let's import the packages to be used within this notebook."
   ]
  },
  {
   "cell_type": "code",
   "execution_count": 2,
   "execution_state": "idle",
   "metadata": {
    "deletable": false,
    "editable": false,
    "nbgrader": {
     "cell_type": "code",
     "checksum": "d52d4256c3ca76244a0606e2b57cff50",
     "grade": false,
     "grade_id": "cell-4a7a0335193cf40f",
     "locked": true,
     "schema_version": 3,
     "solution": false,
     "task": false
    }
   },
   "outputs": [],
   "source": [
    "# The code in this cell is used to import the packages to be used throughout this notebook.\n",
    "# The following are private packages available only during this simnulation:\n",
    "from AmplifyQuantTrading import Data\n",
    "from AmplifyQuantTrading import Exchange\n",
    "from AmplifyQuantTrading import MarketMaker\n",
    "from AmplifyQuantTrading import HedgeFund as hf\n",
    "# The following are publicly available packages:\n",
    "from matplotlib import pyplot as plt\n",
    "from pandas import *\n",
    "from IPython.display import VimeoVideo"
   ]
  },
  {
   "cell_type": "code",
   "execution_count": 3,
   "execution_state": "idle",
   "metadata": {
    "deletable": false,
    "editable": false,
    "nbgrader": {
     "cell_type": "code",
     "checksum": "1a56976d1c2b69de2a736c93c8d6b632",
     "grade": false,
     "grade_id": "cell-6e9cb9e8166bf7b7",
     "locked": true,
     "schema_version": 3,
     "solution": false,
     "task": false
    }
   },
   "outputs": [
    {
     "data": {
      "text/html": [
       "\n",
       "        <iframe\n",
       "            width=\"400\"\n",
       "            height=\"300\"\n",
       "            src=\"https://player.vimeo.com/video/744733270?h=2c04396a12\"\n",
       "            frameborder=\"0\"\n",
       "            allowfullscreen\n",
       "            \n",
       "        ></iframe>\n",
       "        "
      ],
      "text/plain": [
       "<IPython.lib.display.VimeoVideo at 0x7f801689c550>"
      ]
     },
     "execution_count": 3,
     "metadata": {},
     "output_type": "execute_result"
    }
   ],
   "source": [
    "VimeoVideo('744733270?h=2c04396a12')"
   ]
  },
  {
   "cell_type": "code",
   "execution_count": 4,
   "execution_state": "idle",
   "metadata": {
    "deletable": false,
    "editable": false,
    "nbgrader": {
     "cell_type": "code",
     "checksum": "be71459b59175aea650745949d92f2c5",
     "grade": true,
     "grade_id": "cell-95700bc815297acc",
     "locked": true,
     "points": 0,
     "schema_version": 3,
     "solution": false,
     "task": false
    }
   },
   "outputs": [],
   "source": [
    "# HIDDEN PARAMS BOX"
   ]
  },
  {
   "cell_type": "markdown",
   "metadata": {
    "deletable": false,
    "editable": false,
    "nbgrader": {
     "cell_type": "markdown",
     "checksum": "cfa90bc5f1db4c8e14d8bb4dddfcf10d",
     "grade": false,
     "grade_id": "986049254f29a043",
     "locked": true,
     "schema_version": 3,
     "solution": false,
     "task": false
    }
   },
   "source": [
    "The code below will assign the prices data series and price_requests data series to the two variables to make them available throughout the project."
   ]
  },
  {
   "cell_type": "code",
   "execution_count": 5,
   "execution_state": "idle",
   "metadata": {
    "deletable": false,
    "editable": false,
    "nbgrader": {
     "cell_type": "code",
     "checksum": "9a588a16dc20f209963f264d1fca73c4",
     "grade": false,
     "grade_id": "cell-9baf2c67e380131a",
     "locked": true,
     "schema_version": 3,
     "solution": false,
     "task": false
    }
   },
   "outputs": [],
   "source": [
    "prices = Data.get_price_series(\"PricestoFeedserver\")\n",
    "price_requests = Data.get_price_requests(\"PriceRequeststoFeedserver\")"
   ]
  },
  {
   "cell_type": "markdown",
   "metadata": {
    "deletable": false,
    "editable": false,
    "nbgrader": {
     "cell_type": "markdown",
     "checksum": "bc6d3b06b76825d09cfd056e115e15a9",
     "grade": false,
     "grade_id": "cell-6d01bcc8e93638af",
     "locked": true,
     "schema_version": 3,
     "solution": false,
     "task": false
    }
   },
   "source": [
    "### a) Iterate through the first ten price requests and append to the test_requests list.\n",
    "\n",
    "The price requests are being reduced to just 10 items to allow for easier creation of an algorithm on a smaller dataset."
   ]
  },
  {
   "cell_type": "code",
   "execution_count": 6,
   "execution_state": "idle",
   "metadata": {
    "deletable": false,
    "editable": false,
    "nbgrader": {
     "cell_type": "code",
     "checksum": "a74a8bb6b21dd24f478dc83643054acf",
     "grade": false,
     "grade_id": "cell-1f49f81516872c0a",
     "locked": true,
     "schema_version": 3,
     "solution": false,
     "task": false
    }
   },
   "outputs": [
    {
     "data": {
      "text/html": [
       "\n",
       "        <iframe\n",
       "            width=\"400\"\n",
       "            height=\"300\"\n",
       "            src=\"https://player.vimeo.com/video/744733424?h=f4a831df4d\"\n",
       "            frameborder=\"0\"\n",
       "            allowfullscreen\n",
       "            \n",
       "        ></iframe>\n",
       "        "
      ],
      "text/plain": [
       "<IPython.lib.display.VimeoVideo at 0x7f801689cfa0>"
      ]
     },
     "execution_count": 6,
     "metadata": {},
     "output_type": "execute_result"
    }
   ],
   "source": [
    "VimeoVideo('744733424?h=f4a831df4d')"
   ]
  },
  {
   "cell_type": "code",
   "execution_count": 7,
   "execution_state": "idle",
   "metadata": {
    "deletable": false,
    "editable": false,
    "nbgrader": {
     "cell_type": "code",
     "checksum": "7191977fbabd42392987c14f75919712",
     "grade": false,
     "grade_id": "cell-9bdafaf242375e9d",
     "locked": true,
     "schema_version": 3,
     "solution": false,
     "task": false
    }
   },
   "outputs": [],
   "source": [
    "test_requests = []"
   ]
  },
  {
   "cell_type": "code",
   "execution_count": 8,
   "execution_state": "idle",
   "metadata": {
    "deletable": false,
    "nbgrader": {
     "cell_type": "code",
     "checksum": "2b2920e31730ff07d7fac3cf55a64bcf",
     "grade": false,
     "grade_id": "cell-99b8ed7168ecabab",
     "locked": false,
     "schema_version": 3,
     "solution": true,
     "task": false
    }
   },
   "outputs": [],
   "source": [
    "for index in range(0, 10): # Select the first ten prices in the data.\n",
    "    test_requests.append(price_requests[index])"
   ]
  },
  {
   "cell_type": "markdown",
   "metadata": {},
   "source": [
    "Now that you have appended the items to **test_requests** you can find them in the output below.\n",
    "\n",
    "The output should follow the format **[ [ ticker, date, volume ], [ ticker, date, volume ], ... ]**"
   ]
  },
  {
   "cell_type": "code",
   "execution_count": 9,
   "execution_state": "idle",
   "metadata": {
    "deletable": false,
    "editable": false,
    "nbgrader": {
     "cell_type": "code",
     "checksum": "52021f3cd162f3afc0aff8087c73930d",
     "grade": false,
     "grade_id": "cell-adc7f93cc7ea51cb",
     "locked": true,
     "schema_version": 3,
     "solution": false,
     "task": false
    }
   },
   "outputs": [
    {
     "name": "stdout",
     "output_type": "stream",
     "text": [
      "[['FB', 0, 3010], ['AAPL', 10000, 6929], ['FB', 30000, 7015], ['FB', 70000, 4910], ['AAPL', 105000, 5783], ['AAPL', 110000, 3280], ['FB', 115000, 2465], ['AAPL', 120000, 656], ['FB', 130000, 1948], ['FB', 150000, 1386]]\n"
     ]
    }
   ],
   "source": [
    "print(test_requests)"
   ]
  },
  {
   "cell_type": "markdown",
   "metadata": {
    "deletable": false,
    "editable": false,
    "nbgrader": {
     "cell_type": "markdown",
     "checksum": "3156e9b9d2038828ac86b9eb673f4ae8",
     "grade": false,
     "grade_id": "cell-25a3b2ee03baf3fb",
     "locked": true,
     "schema_version": 3,
     "solution": false,
     "task": false
    }
   },
   "source": [
    "##### The cell below is used to grade the work after the event. You do not need to do anything here."
   ]
  },
  {
   "cell_type": "code",
   "execution_count": 10,
   "execution_state": "idle",
   "metadata": {
    "deletable": false,
    "editable": false,
    "nbgrader": {
     "cell_type": "code",
     "checksum": "6b7a58d060182f70a2280ca49362fe61",
     "grade": true,
     "grade_id": "cell-e9a97c2f5d8e24e9",
     "locked": true,
     "points": 1,
     "schema_version": 3,
     "solution": false,
     "task": false
    }
   },
   "outputs": [],
   "source": [
    "# GRADING CELL"
   ]
  },
  {
   "cell_type": "markdown",
   "metadata": {
    "deletable": false,
    "editable": false,
    "nbgrader": {
     "cell_type": "markdown",
     "checksum": "499bc94afb04640d69b35128ea0cd976",
     "grade": false,
     "grade_id": "cell-1d4449695087e718",
     "locked": true,
     "schema_version": 3,
     "solution": false,
     "task": false
    }
   },
   "source": [
    "### b) Identify the reference prices for the first ten requests\n",
    "\n",
    "Now iterate through the *test_requests* and match them with the relevant *date* and *ticker* in the *prices* variable. Store these reference prices and price_requests in a list called *request_with_prices*.\n",
    "\n",
    "#### request_with_prices should be in the format [ ([price requests], ref_price), ([price requests], ref_price), ...  ]"
   ]
  },
  {
   "cell_type": "code",
   "execution_count": 11,
   "execution_state": "idle",
   "metadata": {
    "deletable": false,
    "editable": false,
    "nbgrader": {
     "cell_type": "code",
     "checksum": "b5e2087106cb6cfb72487adc5559d28f",
     "grade": false,
     "grade_id": "cell-105a9ef6b958060a",
     "locked": true,
     "schema_version": 3,
     "solution": false,
     "task": false
    }
   },
   "outputs": [
    {
     "data": {
      "text/html": [
       "\n",
       "        <iframe\n",
       "            width=\"400\"\n",
       "            height=\"300\"\n",
       "            src=\"https://player.vimeo.com/video/744733584?h=7b0768fc51\"\n",
       "            frameborder=\"0\"\n",
       "            allowfullscreen\n",
       "            \n",
       "        ></iframe>\n",
       "        "
      ],
      "text/plain": [
       "<IPython.lib.display.VimeoVideo at 0x7f80681a5090>"
      ]
     },
     "execution_count": 11,
     "metadata": {},
     "output_type": "execute_result"
    }
   ],
   "source": [
    "VimeoVideo('744733584?h=7b0768fc51')"
   ]
  },
  {
   "cell_type": "code",
   "execution_count": 12,
   "execution_state": "idle",
   "metadata": {
    "deletable": false,
    "editable": false,
    "nbgrader": {
     "cell_type": "code",
     "checksum": "923cf750c731323ebf74c6dadff34b56",
     "grade": false,
     "grade_id": "cell-b56b7fa1431f6b80",
     "locked": true,
     "schema_version": 3,
     "solution": false,
     "task": false
    }
   },
   "outputs": [],
   "source": [
    "request_with_prices = []"
   ]
  },
  {
   "cell_type": "code",
   "execution_count": 13,
   "execution_state": "idle",
   "metadata": {
    "deletable": false,
    "nbgrader": {
     "cell_type": "code",
     "checksum": "715bd3867218867466e1760ffc6439b8",
     "grade": false,
     "grade_id": "cell-0477647161607c09",
     "locked": false,
     "schema_version": 3,
     "solution": true,
     "task": false
    }
   },
   "outputs": [],
   "source": [
    "for price in prices:  # Iterate through all the prices to match them against the price requests.\n",
    "    for request in test_requests:  # Iterate through the requests from the Hedge Funds.\n",
    "        if request[0] == price[0] and request[1] == price[1]:\n",
    "            request_with_prices.append( (request,price[2]) )"
   ]
  },
  {
   "cell_type": "markdown",
   "metadata": {
    "deletable": false,
    "editable": false,
    "nbgrader": {
     "cell_type": "markdown",
     "checksum": "ad930cfc9cbe3e7aceb42c38186a425a",
     "grade": false,
     "grade_id": "cell-6a12060e42fe9365",
     "locked": true,
     "schema_version": 3,
     "solution": false,
     "task": false
    }
   },
   "source": [
    "Run the cell below to check the output for test_requests.\n",
    "\n",
    "##### The output from test_requests should be in the format: [ ( [price requests], ref_price ), ( [price requests], ref_price ), ... ]"
   ]
  },
  {
   "cell_type": "code",
   "execution_count": 14,
   "execution_state": "idle",
   "metadata": {
    "deletable": false,
    "editable": false,
    "nbgrader": {
     "cell_type": "code",
     "checksum": "8c17584499a821a613bcd67656ca28ec",
     "grade": false,
     "grade_id": "cell-3f2db2da4086b547",
     "locked": true,
     "schema_version": 3,
     "solution": false,
     "task": false
    }
   },
   "outputs": [
    {
     "name": "stdout",
     "output_type": "stream",
     "text": [
      "[(['FB', 0, 3010], 194.44), (['AAPL', 10000, 6929], 74.63), (['FB', 30000, 7015], 195.75), (['FB', 70000, 4910], 193.3), (['AAPL', 105000, 5783], 73.13), (['AAPL', 110000, 3280], 73.83), (['FB', 115000, 2465], 185.76), (['AAPL', 120000, 656], 76.56), (['FB', 130000, 1948], 191.32), (['FB', 150000, 1386], 195.82)]\n"
     ]
    }
   ],
   "source": [
    "print(request_with_prices)"
   ]
  },
  {
   "cell_type": "markdown",
   "metadata": {
    "deletable": false,
    "editable": false,
    "nbgrader": {
     "cell_type": "markdown",
     "checksum": "40659a7eb01f8169efe4b672f59f733c",
     "grade": false,
     "grade_id": "cell-2d340453b292d4ab",
     "locked": true,
     "schema_version": 3,
     "solution": false,
     "task": false
    }
   },
   "source": [
    "\n",
    "##### The cell below is used to grade the work after the event. You do not need to do anything here."
   ]
  },
  {
   "cell_type": "code",
   "execution_count": 15,
   "execution_state": "idle",
   "metadata": {
    "deletable": false,
    "editable": false,
    "nbgrader": {
     "cell_type": "code",
     "checksum": "ec78ea6f6773d68628d2f298b5a461fe",
     "grade": true,
     "grade_id": "cell-f12ce7c5321e77ae",
     "locked": true,
     "points": 1,
     "schema_version": 3,
     "solution": false,
     "task": false
    }
   },
   "outputs": [],
   "source": [
    "# GRADING CELL"
   ]
  },
  {
   "cell_type": "markdown",
   "metadata": {
    "deletable": false,
    "editable": false,
    "nbgrader": {
     "cell_type": "markdown",
     "checksum": "7a5944f1a0e5a394e7e0465842466edb",
     "grade": false,
     "grade_id": "cell-9d946755bc1a9840",
     "locked": true,
     "schema_version": 3,
     "solution": false,
     "task": false
    }
   },
   "source": [
    "### c) Create a non-skewed bid and offer for the request_with_prices\n",
    "\n",
    "Now that you have paired the Request with a Reference Price you can create your bid and offer. We will be using Object Oriented Programming here to pass our trade to the Hedge Fund later on.\n",
    "\n",
    "### **QuotedTrade object**\n",
    "This object will be used to quote trades and send them to the hedge funds. The object contains the following attributes:\n",
    "* ticker: String\n",
    "* trade_volume: Integer\n",
    "* ref_price: Float\n",
    "* bid_price: Float\n",
    "* offer_price: Float\n",
    "* date: Integer"
   ]
  },
  {
   "cell_type": "code",
   "execution_count": 16,
   "execution_state": "idle",
   "metadata": {
    "deletable": false,
    "editable": false,
    "nbgrader": {
     "cell_type": "code",
     "checksum": "4585b31ea3ad6a0bdf731860e1807caa",
     "grade": false,
     "grade_id": "cell-12b37246a4e887f5",
     "locked": true,
     "schema_version": 3,
     "solution": false,
     "task": false
    }
   },
   "outputs": [
    {
     "data": {
      "text/html": [
       "\n",
       "        <iframe\n",
       "            width=\"400\"\n",
       "            height=\"300\"\n",
       "            src=\"https://player.vimeo.com/video/744733708?h=0973a3bbe4\"\n",
       "            frameborder=\"0\"\n",
       "            allowfullscreen\n",
       "            \n",
       "        ></iframe>\n",
       "        "
      ],
      "text/plain": [
       "<IPython.lib.display.VimeoVideo at 0x7f801689c4c0>"
      ]
     },
     "execution_count": 16,
     "metadata": {},
     "output_type": "execute_result"
    }
   ],
   "source": [
    "VimeoVideo('744733708?h=0973a3bbe4')"
   ]
  },
  {
   "cell_type": "code",
   "execution_count": 17,
   "execution_state": "idle",
   "metadata": {
    "deletable": false,
    "editable": false,
    "nbgrader": {
     "cell_type": "code",
     "checksum": "6920e8e4bc3595ebe343fe659cc9cced",
     "grade": false,
     "grade_id": "cell-72c52dc77d98b645",
     "locked": true,
     "schema_version": 3,
     "solution": false,
     "task": false
    }
   },
   "outputs": [],
   "source": [
    "class QuotedTrade:\n",
    "    def __init__(self, ticker, trade_volume, ref_price, bid_price, offer_price,\n",
    "                 date):\n",
    "        self.ticker = ticker\n",
    "        self.trade_volume = trade_volume\n",
    "        self.ref_price = ref_price\n",
    "        self.bid_price = bid_price\n",
    "        self.offer_price = offer_price\n",
    "        self.date = date\n",
    "\n",
    "    def __str__(self):\n",
    "        return f'Trade Request for {self.ticker}, {self.trade_volume} shares @ {self.ref_price} on {self.date}. Bid Price: {self.bid_price} and Offer Price: {self.offer_price}'\n",
    "\n",
    "    def __repr__(self):\n",
    "        return f'QuotedTrade(ticker={self.ticker}, trade_volume={self.trade_volume}, ref_price={self.ref_price}, bid_price={self.bid_price}, offer_price={self.offer_price}, date={self.date})'"
   ]
  },
  {
   "cell_type": "markdown",
   "metadata": {
    "deletable": false,
    "editable": false,
    "nbgrader": {
     "cell_type": "markdown",
     "checksum": "784b69e63580f4024b25cded74e1a718",
     "grade": false,
     "grade_id": "cell-b8279455f9c02fa9",
     "locked": true,
     "schema_version": 3,
     "solution": false,
     "task": false
    }
   },
   "source": [
    "Now that you have initialised the QuotedTrade object you can use this as a template for trades.\n",
    "\n",
    "To do this create your bid and offer in the task below by assigning a 2% spread on each side based on the reference price."
   ]
  },
  {
   "cell_type": "code",
   "execution_count": 18,
   "execution_state": "idle",
   "metadata": {
    "deletable": false,
    "editable": false,
    "nbgrader": {
     "cell_type": "code",
     "checksum": "890fd3af76a0967109edaeffe147344f",
     "grade": false,
     "grade_id": "cell-e65e21327f1e8616",
     "locked": true,
     "schema_version": 3,
     "solution": false,
     "task": false
    }
   },
   "outputs": [],
   "source": [
    "quoted_trades = []"
   ]
  },
  {
   "cell_type": "code",
   "execution_count": 20,
   "execution_state": "idle",
   "metadata": {
    "deletable": false,
    "nbgrader": {
     "cell_type": "code",
     "checksum": "5b6d8404478d6c51b006585a39f88442",
     "grade": false,
     "grade_id": "cell-d5d31114b6fa1780",
     "locked": false,
     "schema_version": 3,
     "solution": true,
     "task": false
    }
   },
   "outputs": [],
   "source": [
    "# Replace the ? in this task with your answer.\n",
    "\n",
    "for matched in request_with_prices:\n",
    "    bid_price = matched[1] * 0.98 # * vol Create the bid spread  **should vary with risk**\n",
    "    \n",
    "    offer_price = matched[1] * 1.02 # Create the offer spread\n",
    "    \n",
    "    # Now create the QuotedTrade object and append it to the quoted_trades list.\n",
    "    quote = QuotedTrade(matched[0][0], matched[0][2], matched[1], bid_price, offer_price,matched[0][1])\n",
    "    quoted_trades.append(quote)\n",
    "    # Insert your answer code here"
   ]
  },
  {
   "cell_type": "markdown",
   "metadata": {
    "deletable": false,
    "editable": false,
    "nbgrader": {
     "cell_type": "markdown",
     "checksum": "a7a5faa711663002afafb079dd4e0caa",
     "grade": false,
     "grade_id": "cell-a349fae73dcb9fbd",
     "locked": true,
     "schema_version": 3,
     "solution": false,
     "task": false
    }
   },
   "source": [
    "Run the cell below to check the output for quoted_trades. \n",
    "\n",
    "##### In the output below you should see many QuotedTrade objects with their details."
   ]
  },
  {
   "cell_type": "code",
   "execution_count": 21,
   "execution_state": "idle",
   "metadata": {
    "deletable": false,
    "editable": false,
    "nbgrader": {
     "cell_type": "code",
     "checksum": "45766d50c275e787993258e3070e6ebe",
     "grade": false,
     "grade_id": "cell-baa66e2e7ded583d",
     "locked": true,
     "schema_version": 3,
     "solution": false,
     "task": false
    }
   },
   "outputs": [
    {
     "name": "stdout",
     "output_type": "stream",
     "text": [
      "[QuotedTrade(ticker=FB, trade_volume=3010, ref_price=194.44, bid_price=190.5512, offer_price=198.3288, date=0), QuotedTrade(ticker=AAPL, trade_volume=6929, ref_price=74.63, bid_price=73.1374, offer_price=76.12259999999999, date=10000), QuotedTrade(ticker=FB, trade_volume=7015, ref_price=195.75, bid_price=191.835, offer_price=199.665, date=30000), QuotedTrade(ticker=FB, trade_volume=4910, ref_price=193.3, bid_price=189.434, offer_price=197.16600000000003, date=70000), QuotedTrade(ticker=AAPL, trade_volume=5783, ref_price=73.13, bid_price=71.6674, offer_price=74.59259999999999, date=105000), QuotedTrade(ticker=AAPL, trade_volume=3280, ref_price=73.83, bid_price=72.3534, offer_price=75.3066, date=110000), QuotedTrade(ticker=FB, trade_volume=2465, ref_price=185.76, bid_price=182.04479999999998, offer_price=189.4752, date=115000), QuotedTrade(ticker=AAPL, trade_volume=656, ref_price=76.56, bid_price=75.0288, offer_price=78.0912, date=120000), QuotedTrade(ticker=FB, trade_volume=1948, ref_price=191.32, bid_price=187.4936, offer_price=195.1464, date=130000), QuotedTrade(ticker=FB, trade_volume=1386, ref_price=195.82, bid_price=191.90359999999998, offer_price=199.7364, date=150000)]\n"
     ]
    }
   ],
   "source": [
    "print(quoted_trades)"
   ]
  },
  {
   "cell_type": "markdown",
   "metadata": {
    "deletable": false,
    "editable": false,
    "nbgrader": {
     "cell_type": "markdown",
     "checksum": "7a2d233ae87a3f853b2befece9bd1189",
     "grade": false,
     "grade_id": "cell-2ae071e75bb25318",
     "locked": true,
     "schema_version": 3,
     "solution": false,
     "task": false
    }
   },
   "source": [
    "##### The cell below is used to grade the work after the event. You do not need to do anything here."
   ]
  },
  {
   "cell_type": "code",
   "execution_count": 22,
   "execution_state": "idle",
   "metadata": {
    "deletable": false,
    "editable": false,
    "nbgrader": {
     "cell_type": "code",
     "checksum": "9324dc9f85637d34d0866ec347b55de0",
     "grade": true,
     "grade_id": "cell-106ce2201a6a2fbc",
     "locked": true,
     "points": 1,
     "schema_version": 3,
     "solution": false,
     "task": false
    }
   },
   "outputs": [],
   "source": [
    "# GRADING CELL"
   ]
  },
  {
   "cell_type": "markdown",
   "metadata": {
    "deletable": false,
    "editable": false,
    "nbgrader": {
     "cell_type": "markdown",
     "checksum": "cd6f2285b0becc7a8d54acb304375c37",
     "grade": false,
     "grade_id": "cell-3ec62f4d803fadfe",
     "locked": true,
     "schema_version": 3,
     "solution": false,
     "task": false
    }
   },
   "source": [
    "### d) Interact with the Hedge Fund to Show quoted_trades and recieve a response.\n",
    "\n",
    "Using the *quoted_trades* list interact with the HF object to receive a \"Buy, Sell, Refuse\" response from the HF and store these *HfResponse* objects in an list called *hf_responses*.\n",
    "\n",
    "##### Sends the quoted_trade object to the hedge fund to make a decision for a trade.\n",
    "```python\n",
    "hf.show(QuotedTrade)\n",
    "```\n",
    "***Parameters:***\n",
    "* QuotedTrade: Custom Object\n",
    "\n",
    "***Returns:***\n",
    "* HfResponse( ticker: String, trade_volume: Integer, trade_price: Float, hf_action: String, ref_price: Float, bid_price: Float, offer_price: Float, date: Integer )"
   ]
  },
  {
   "cell_type": "code",
   "execution_count": 23,
   "execution_state": "idle",
   "metadata": {
    "deletable": false,
    "editable": false,
    "nbgrader": {
     "cell_type": "code",
     "checksum": "a0c69d7ddfe9f843ff525ec6578f897e",
     "grade": false,
     "grade_id": "cell-7e4b55b9541c4a34",
     "locked": true,
     "schema_version": 3,
     "solution": false,
     "task": false
    }
   },
   "outputs": [
    {
     "data": {
      "text/html": [
       "\n",
       "        <iframe\n",
       "            width=\"400\"\n",
       "            height=\"300\"\n",
       "            src=\"https://player.vimeo.com/video/744734042?h=54b48fb5bb\"\n",
       "            frameborder=\"0\"\n",
       "            allowfullscreen\n",
       "            \n",
       "        ></iframe>\n",
       "        "
      ],
      "text/plain": [
       "<IPython.lib.display.VimeoVideo at 0x7f80164fa920>"
      ]
     },
     "execution_count": 23,
     "metadata": {},
     "output_type": "execute_result"
    }
   ],
   "source": [
    "VimeoVideo('744734042?h=54b48fb5bb')"
   ]
  },
  {
   "cell_type": "code",
   "execution_count": 24,
   "execution_state": "idle",
   "metadata": {
    "deletable": false,
    "editable": false,
    "nbgrader": {
     "cell_type": "code",
     "checksum": "e7b35539d334a925ba6fbf6e70831d0c",
     "grade": false,
     "grade_id": "cell-016d41309d106a52",
     "locked": true,
     "schema_version": 3,
     "solution": false,
     "task": false
    }
   },
   "outputs": [],
   "source": [
    "hf_responses = []"
   ]
  },
  {
   "cell_type": "code",
   "execution_count": 25,
   "execution_state": "idle",
   "metadata": {
    "deletable": false,
    "nbgrader": {
     "cell_type": "code",
     "checksum": "3507d4d393e9810cb137a084b9596151",
     "grade": false,
     "grade_id": "cell-f6106fcbf78adf23",
     "locked": false,
     "schema_version": 3,
     "solution": true,
     "task": false
    }
   },
   "outputs": [
    {
     "name": "stdout",
     "output_type": "stream",
     "text": [
      "sell\n",
      "buy\n",
      "sell\n",
      "sell\n",
      "sell\n",
      "sell\n",
      "sell\n",
      "sell\n",
      "sell\n",
      "sell\n"
     ]
    }
   ],
   "source": [
    "# Replace the ? in this task with your answer.\n",
    "\n",
    "for trade in quoted_trades:\n",
    "    response = hf.show(trade) # Assign the response to the return from the hf.show()\n",
    "    print(response.hf_action)\n",
    "    hf_responses.append(response)\n",
    "    # Insert your answer code here"
   ]
  },
  {
   "cell_type": "markdown",
   "metadata": {
    "deletable": false,
    "editable": false,
    "nbgrader": {
     "cell_type": "markdown",
     "checksum": "20d246b977b74dcd613f61f9d5d16d2b",
     "grade": false,
     "grade_id": "cell-418c8973f359240a",
     "locked": true,
     "schema_version": 3,
     "solution": false,
     "task": false
    }
   },
   "source": [
    "Run the cell below to check the output for the responses from the Hedge Fund. \n",
    "\n",
    "##### In the output below you should see many HfResponse objects with their details."
   ]
  },
  {
   "cell_type": "code",
   "execution_count": 26,
   "execution_state": "idle",
   "metadata": {
    "deletable": false,
    "editable": false,
    "nbgrader": {
     "cell_type": "code",
     "checksum": "39e6419fbd1e20d3618ab289dc800160",
     "grade": false,
     "grade_id": "cell-445888e408bf1715",
     "locked": true,
     "schema_version": 3,
     "solution": false,
     "task": false
    }
   },
   "outputs": [
    {
     "name": "stdout",
     "output_type": "stream",
     "text": [
      "[HfResponse(ticker=FB, trade_volume=3010, trade_price=190.5512, hf_action=sell, ref_price=194.44, bid_price=190.5512, offer_price=198.3288, date=0), HfResponse(ticker=AAPL, trade_volume=6929, trade_price=76.12259999999999, hf_action=buy, ref_price=74.63, bid_price=73.1374, offer_price=76.12259999999999, date=10000), HfResponse(ticker=FB, trade_volume=7015, trade_price=191.835, hf_action=sell, ref_price=195.75, bid_price=191.835, offer_price=199.665, date=30000), HfResponse(ticker=FB, trade_volume=4910, trade_price=189.434, hf_action=sell, ref_price=193.3, bid_price=189.434, offer_price=197.16600000000003, date=70000), HfResponse(ticker=AAPL, trade_volume=5783, trade_price=71.6674, hf_action=sell, ref_price=73.13, bid_price=71.6674, offer_price=74.59259999999999, date=105000), HfResponse(ticker=AAPL, trade_volume=3280, trade_price=72.3534, hf_action=sell, ref_price=73.83, bid_price=72.3534, offer_price=75.3066, date=110000), HfResponse(ticker=FB, trade_volume=2465, trade_price=182.04479999999998, hf_action=sell, ref_price=185.76, bid_price=182.04479999999998, offer_price=189.4752, date=115000), HfResponse(ticker=AAPL, trade_volume=656, trade_price=75.0288, hf_action=sell, ref_price=76.56, bid_price=75.0288, offer_price=78.0912, date=120000), HfResponse(ticker=FB, trade_volume=1948, trade_price=187.4936, hf_action=sell, ref_price=191.32, bid_price=187.4936, offer_price=195.1464, date=130000), HfResponse(ticker=FB, trade_volume=1386, trade_price=191.90359999999998, hf_action=sell, ref_price=195.82, bid_price=191.90359999999998, offer_price=199.7364, date=150000)]\n"
     ]
    }
   ],
   "source": [
    "print(hf_responses)"
   ]
  },
  {
   "cell_type": "markdown",
   "metadata": {
    "deletable": false,
    "editable": false,
    "nbgrader": {
     "cell_type": "markdown",
     "checksum": "a3f1a7ceb1615556019d901da2acdf5c",
     "grade": false,
     "grade_id": "cell-8b97d29e3d7a569d",
     "locked": true,
     "schema_version": 3,
     "solution": false,
     "task": false
    }
   },
   "source": [
    "##### The cell below is used to grade the work after the event. You do not need to do anything here."
   ]
  },
  {
   "cell_type": "code",
   "execution_count": 27,
   "execution_state": "idle",
   "metadata": {
    "deletable": false,
    "editable": false,
    "nbgrader": {
     "cell_type": "code",
     "checksum": "54370f4d2b4070b6f7c25052967676f2",
     "grade": true,
     "grade_id": "cell-e0e2f0e2c0c47ed2",
     "locked": true,
     "points": 1,
     "schema_version": 3,
     "solution": false,
     "task": false
    }
   },
   "outputs": [],
   "source": [
    "# GRADING CELL"
   ]
  },
  {
   "cell_type": "markdown",
   "metadata": {
    "deletable": false,
    "editable": false,
    "nbgrader": {
     "cell_type": "markdown",
     "checksum": "43f032b9a3a87fcddf1b14ac297b7990",
     "grade": false,
     "grade_id": "cell-0e50484308b8ffb1",
     "locked": true,
     "schema_version": 3,
     "solution": false,
     "task": false
    }
   },
   "source": [
    "## e) Begin logging your actions with the Market Maker class and functions.\n",
    "\n",
    "### Initialise the Market Maker Object\n",
    "\n",
    "To be able to use the Market Maker in this simulation we run the code in the cell below to create the object. The Market Maker object contains the following properities.\n",
    "\n",
    "#### Market Maker object contains:\n",
    "* current_positions: Dictionary of current_position objects - {ticker: String, current_position: Object}\n",
    "  * current_position: Custom Object\n",
    "    * ticker: String\n",
    "    * position_volume: Integer\n",
    "    * open_price: Float\n",
    "    * date: Integer\n",
    "* quoted_trades: List of quoted_trade objects - [quoted_trade, quoted_trade, …]\n",
    "  * quoted_trade: Custom Object\n",
    "* completed_trades: List of completed_trade objects - [completed_trade, completed_trade, ...]\n",
    "  * completed_trade: Custom Object\n",
    "* ETF_positions: List of completed_trade objects - [completed_trade, completed_trade, ...]\n",
    "  * completed_trade: Custom Object\n"
   ]
  },
  {
   "cell_type": "code",
   "execution_count": 28,
   "execution_state": "idle",
   "metadata": {
    "deletable": false,
    "editable": false,
    "nbgrader": {
     "cell_type": "code",
     "checksum": "efff336979fe54b36239f0bd5cb4d0fb",
     "grade": false,
     "grade_id": "cell-630635aa52a34570",
     "locked": true,
     "schema_version": 3,
     "solution": false,
     "task": false
    }
   },
   "outputs": [
    {
     "data": {
      "text/html": [
       "\n",
       "        <iframe\n",
       "            width=\"400\"\n",
       "            height=\"300\"\n",
       "            src=\"https://player.vimeo.com/video/744734268?h=47a777836e\"\n",
       "            frameborder=\"0\"\n",
       "            allowfullscreen\n",
       "            \n",
       "        ></iframe>\n",
       "        "
      ],
      "text/plain": [
       "<IPython.lib.display.VimeoVideo at 0x7f80681a7340>"
      ]
     },
     "execution_count": 28,
     "metadata": {},
     "output_type": "execute_result"
    }
   ],
   "source": [
    "VimeoVideo('744734268?h=47a777836e')"
   ]
  },
  {
   "cell_type": "code",
   "execution_count": 29,
   "execution_state": "idle",
   "metadata": {
    "deletable": false,
    "editable": false,
    "nbgrader": {
     "cell_type": "code",
     "checksum": "a44920a859432a682aa46e52a28ac36e",
     "grade": false,
     "grade_id": "cell-e594040914e04f9c",
     "locked": true,
     "schema_version": 3,
     "solution": false,
     "task": false
    }
   },
   "outputs": [],
   "source": [
    "mm = MarketMaker.mm()"
   ]
  },
  {
   "cell_type": "markdown",
   "metadata": {
    "deletable": false,
    "editable": false,
    "nbgrader": {
     "cell_type": "markdown",
     "checksum": "0719b5d712069bb505f2af2f38394fa9",
     "grade": false,
     "grade_id": "cell-2eb48c71b1867f57",
     "locked": true,
     "schema_version": 3,
     "solution": false,
     "task": false
    }
   },
   "source": [
    " As a Market Maker, it is imperative to keep a log of the trades quoted and clients' responses. As a result, interact with the MM object to store the quoted_trades lists into the logs.\n",
    "\n",
    "#### Add a trade to Market Makers history\n",
    "```python\n",
    "mm.add_quoted_trade(QuotedTrade)\n",
    "```\n",
    "***Parameters:***\n",
    "* QuotedTrade: Custom Object\n",
    "\n",
    "***Returns:***\n",
    "* String: Indicating a successfully added trade or failed added trade."
   ]
  },
  {
   "cell_type": "code",
   "execution_count": 30,
   "execution_state": "idle",
   "metadata": {
    "deletable": false,
    "nbgrader": {
     "cell_type": "code",
     "checksum": "1d2aa9fa4a50272d1c1d7c6867899098",
     "grade": false,
     "grade_id": "cell-cb05edf6a52feea0",
     "locked": false,
     "schema_version": 3,
     "solution": true,
     "task": false
    }
   },
   "outputs": [],
   "source": [
    "for quote in quoted_trades:\n",
    "    # Use the function to add each quote to the Market Maker\n",
    "    mm.add_quoted_trade(quote)\n",
    "    # Insert your answer code here"
   ]
  },
  {
   "cell_type": "markdown",
   "metadata": {
    "deletable": false,
    "editable": false,
    "nbgrader": {
     "cell_type": "markdown",
     "checksum": "91ec77590cb6a66cf88222b02d9dbcab",
     "grade": false,
     "grade_id": "cell-eeb102c5e3ffdac1",
     "locked": true,
     "schema_version": 3,
     "solution": false,
     "task": false
    }
   },
   "source": [
    "Run the cell below to check the output for market maker quoted_trades. \n",
    "\n",
    "##### In the output below you should see many QuotedTrade objects with their details."
   ]
  },
  {
   "cell_type": "code",
   "execution_count": 31,
   "execution_state": "idle",
   "metadata": {
    "deletable": false,
    "editable": false,
    "nbgrader": {
     "cell_type": "code",
     "checksum": "a271d2500aa5a1d41fca48b20a57ab0b",
     "grade": false,
     "grade_id": "cell-3f5209199c32b9fa",
     "locked": true,
     "schema_version": 3,
     "solution": false,
     "task": false
    }
   },
   "outputs": [
    {
     "name": "stdout",
     "output_type": "stream",
     "text": [
      "[QuotedTrade(ticker=FB, trade_volume=3010, ref_price=194.44, bid_price=190.5512, offer_price=198.3288, date=0), QuotedTrade(ticker=AAPL, trade_volume=6929, ref_price=74.63, bid_price=73.1374, offer_price=76.12259999999999, date=10000), QuotedTrade(ticker=FB, trade_volume=7015, ref_price=195.75, bid_price=191.835, offer_price=199.665, date=30000), QuotedTrade(ticker=FB, trade_volume=4910, ref_price=193.3, bid_price=189.434, offer_price=197.16600000000003, date=70000), QuotedTrade(ticker=AAPL, trade_volume=5783, ref_price=73.13, bid_price=71.6674, offer_price=74.59259999999999, date=105000), QuotedTrade(ticker=AAPL, trade_volume=3280, ref_price=73.83, bid_price=72.3534, offer_price=75.3066, date=110000), QuotedTrade(ticker=FB, trade_volume=2465, ref_price=185.76, bid_price=182.04479999999998, offer_price=189.4752, date=115000), QuotedTrade(ticker=AAPL, trade_volume=656, ref_price=76.56, bid_price=75.0288, offer_price=78.0912, date=120000), QuotedTrade(ticker=FB, trade_volume=1948, ref_price=191.32, bid_price=187.4936, offer_price=195.1464, date=130000), QuotedTrade(ticker=FB, trade_volume=1386, ref_price=195.82, bid_price=191.90359999999998, offer_price=199.7364, date=150000)]\n"
     ]
    }
   ],
   "source": [
    "print(mm.quoted_trades)"
   ]
  },
  {
   "cell_type": "markdown",
   "metadata": {
    "deletable": false,
    "editable": false,
    "nbgrader": {
     "cell_type": "markdown",
     "checksum": "76b1cd94779c18b0375aa87c8ff4dbdc",
     "grade": false,
     "grade_id": "cell-ead8b967d22ecc43",
     "locked": true,
     "schema_version": 3,
     "solution": false,
     "task": false
    }
   },
   "source": [
    "### Create another object to be used during this event following a similar structure to the QuotedTrade class.\n",
    "\n",
    "**Create a CompletedTrade object**\n",
    "\n",
    "This object will be used to log successful trades to the market maker object. The object should contain the following attributes:\n",
    "* ticker: String\n",
    "* trade_volume: Integer\n",
    "* trade_price: Float\n",
    "* mm_action: String\n",
    "* ref_price: Float\n",
    "* bid_price: Float\n",
    "* offer_price: Float\n",
    "* date: Integer"
   ]
  },
  {
   "cell_type": "code",
   "execution_count": 32,
   "execution_state": "idle",
   "metadata": {
    "deletable": false,
    "nbgrader": {
     "cell_type": "code",
     "checksum": "2f8f9c0af111f791b96b8dd726ff488c",
     "grade": false,
     "grade_id": "cell-fb5a051969912f63",
     "locked": false,
     "schema_version": 3,
     "solution": true,
     "task": false
    }
   },
   "outputs": [],
   "source": [
    "class CompletedTrade:\n",
    "    # Insert your answer code here\n",
    "    def __init__(self, ticker, trade_volume, trade_price, mm_action, ref_price, bid_price, offer_price, date):\n",
    "        self.ticker = ticker\n",
    "        self.trade_volume = trade_volume\n",
    "        self.trade_price =  trade_price\n",
    "        self.mm_action = mm_action\n",
    "        self.ref_price = ref_price\n",
    "        self.bid_price = bid_price\n",
    "        self.offer_price = offer_price\n",
    "        self.date = date"
   ]
  },
  {
   "cell_type": "markdown",
   "metadata": {
    "deletable": false,
    "editable": false,
    "nbgrader": {
     "cell_type": "markdown",
     "checksum": "02210cc08146605deadaec032247a46a",
     "grade": false,
     "grade_id": "cell-aec07b65343676b6",
     "locked": true,
     "schema_version": 3,
     "solution": false,
     "task": false
    }
   },
   "source": [
    "### Interact with the MM object to store the CompletedTrade objects into the logs.\n",
    "\n",
    "#### Update the Market Makers current positions.\n",
    "```python\n",
    "mm.add_trade(CompletedTrade)\n",
    "```\n",
    "***Parameters:***\n",
    "* CompletedTrade: Custom Object\n",
    "\n",
    "***Returns:***\n",
    "* String: Indicating a successfully added trade or failed added trade.\n",
    "\n",
    "#### Throughout this simulation the hf_action has the possibility to be the following: \"buy\", \"sell\" and \"refuse\""
   ]
  },
  {
   "cell_type": "code",
   "execution_count": 33,
   "execution_state": "idle",
   "metadata": {
    "deletable": false,
    "nbgrader": {
     "cell_type": "code",
     "checksum": "71ded18b268ef6584b4ca2105174042a",
     "grade": false,
     "grade_id": "cell-c8f52b102a9edb6a",
     "locked": false,
     "schema_version": 3,
     "solution": true,
     "task": false
    }
   },
   "outputs": [],
   "source": [
    "for response in hf_responses: # Loops through the hf_responses for each response\n",
    "        \n",
    "    # Collection of conditionals for \"buy\", \"sell\" and \"refuse\"\n",
    "    if response.hf_action == \"buy\": # Identifies the HF action to be converted into the MM action\n",
    "        mm_action = \"sell\"\n",
    "    elif response.hf_action == \"sell\":\n",
    "        mm_action = \"buy\"\n",
    "    else:\n",
    "        mm_action = \"refuse\"\n",
    "\n",
    "    trade = CompletedTrade(response.ticker,\n",
    "                           response.trade_volume,\n",
    "                           response.trade_price,\n",
    "                           mm_action,\n",
    "                           response.ref_price,\n",
    "                           response.bid_price,\n",
    "                           response.offer_price,\n",
    "                           response.date)\n",
    "        # Insert your answer code here\n",
    "    mm.add_trade(trade)\n"
   ]
  },
  {
   "cell_type": "markdown",
   "metadata": {
    "deletable": false,
    "editable": false,
    "nbgrader": {
     "cell_type": "markdown",
     "checksum": "37582af37e83d37d8601ac5829bd158d",
     "grade": false,
     "grade_id": "cell-4793642ce2718d65",
     "locked": true,
     "schema_version": 3,
     "solution": false,
     "task": false
    }
   },
   "source": [
    "Run the cell below to check the output for market maker quoted_trades. \n",
    "\n",
    "##### In the output below you should see many CompletedTrade objects with their details."
   ]
  },
  {
   "cell_type": "code",
   "execution_count": 34,
   "execution_state": "idle",
   "metadata": {
    "deletable": false,
    "editable": false,
    "nbgrader": {
     "cell_type": "code",
     "checksum": "25f47ad3a3c2f662f0889e5ee635bcd2",
     "grade": false,
     "grade_id": "cell-ee1493e2a72fd768",
     "locked": true,
     "schema_version": 3,
     "solution": false,
     "task": false
    }
   },
   "outputs": [
    {
     "name": "stdout",
     "output_type": "stream",
     "text": [
      "[<__main__.CompletedTrade object at 0x7f80166d5cf0>, <__main__.CompletedTrade object at 0x7f801649de10>, <__main__.CompletedTrade object at 0x7f801649d420>, <__main__.CompletedTrade object at 0x7f801649cc40>, <__main__.CompletedTrade object at 0x7f801649fa00>, <__main__.CompletedTrade object at 0x7f801649d870>, <__main__.CompletedTrade object at 0x7f801649c7c0>, <__main__.CompletedTrade object at 0x7f801649c520>, <__main__.CompletedTrade object at 0x7f801649dc90>, <__main__.CompletedTrade object at 0x7f801649f970>]\n"
     ]
    }
   ],
   "source": [
    "print(mm.completed_trades)"
   ]
  },
  {
   "cell_type": "markdown",
   "metadata": {
    "deletable": false,
    "editable": false,
    "nbgrader": {
     "cell_type": "markdown",
     "checksum": "5d44dd044e5a2f574978aa80c5efc64f",
     "grade": false,
     "grade_id": "cell-e8bf17230d0203d7",
     "locked": true,
     "schema_version": 3,
     "solution": false,
     "task": false
    }
   },
   "source": [
    "##### The cell below is used to grade the work after the event. You do not need to do anything here."
   ]
  },
  {
   "cell_type": "code",
   "execution_count": 35,
   "execution_state": "idle",
   "metadata": {
    "deletable": false,
    "editable": false,
    "nbgrader": {
     "cell_type": "code",
     "checksum": "282594aac79b3e4514b36df057b5d6c3",
     "grade": true,
     "grade_id": "cell-92ae5fee0027d4eb",
     "locked": true,
     "points": 1,
     "schema_version": 3,
     "solution": false,
     "task": false
    }
   },
   "outputs": [],
   "source": [
    "# GRADING CELL"
   ]
  },
  {
   "cell_type": "markdown",
   "metadata": {
    "deletable": false,
    "editable": false,
    "nbgrader": {
     "cell_type": "markdown",
     "checksum": "1950ee8cb9cf4907cd48c627c4e6ba08",
     "grade": false,
     "grade_id": "cell-e1ce2acbe9d65639",
     "locked": true,
     "schema_version": 3,
     "solution": false,
     "task": false
    }
   },
   "source": [
    "### f) Create a graphical output for all the AAPL quoted trades.\n",
    "\n",
    "The graph should be created using the matplotlib library. It should show all the quoted trades completed for the ticker AAPL and visualise the *Bid, Offer and Reference Price* against *Date*.\n",
    "\n",
    "#### Initialise the plot with the <python>fig, axes = plt.subplots() </python> function. \n",
    "#### Populate the lists given, and plot them using <python>axes.plot()</python>."
   ]
  },
  {
   "cell_type": "code",
   "execution_count": 36,
   "execution_state": "idle",
   "metadata": {
    "deletable": false,
    "editable": false,
    "nbgrader": {
     "cell_type": "code",
     "checksum": "2f6d8ab72554708047a783abbc75f660",
     "grade": false,
     "grade_id": "cell-1067a5569f41a46c",
     "locked": true,
     "schema_version": 3,
     "solution": false,
     "task": false
    }
   },
   "outputs": [
    {
     "data": {
      "text/html": [
       "\n",
       "        <iframe\n",
       "            width=\"400\"\n",
       "            height=\"300\"\n",
       "            src=\"https://player.vimeo.com/video/744734758?h=5d07d78c62\"\n",
       "            frameborder=\"0\"\n",
       "            allowfullscreen\n",
       "            \n",
       "        ></iframe>\n",
       "        "
      ],
      "text/plain": [
       "<IPython.lib.display.VimeoVideo at 0x7f8016324d90>"
      ]
     },
     "execution_count": 36,
     "metadata": {},
     "output_type": "execute_result"
    }
   ],
   "source": [
    "VimeoVideo('744734758?h=5d07d78c62')"
   ]
  },
  {
   "cell_type": "code",
   "execution_count": 37,
   "execution_state": "idle",
   "metadata": {
    "deletable": false,
    "nbgrader": {
     "cell_type": "code",
     "checksum": "f659f5d2abc3dcb646dd2f70d66f5d1c",
     "grade": false,
     "grade_id": "cell-ee63e401086f7686",
     "locked": false,
     "schema_version": 3,
     "solution": true,
     "task": false
    }
   },
   "outputs": [],
   "source": [
    "# Initalises the lists to store all the data\n",
    "bid_data = []\n",
    "offer_data = []\n",
    "quote_dates = []\n",
    "\n",
    "for trade in mm.completed_trades: # Iterate through the completed trades to find the AAPL trades and store the data.\n",
    "    if trade.ticker ==\"AAPL\":\n",
    "        bid_data.append(trade.bid_price)\n",
    "        offer_data.append(trade.offer_price)\n",
    "        quote_dates.append(trade.date)\n",
    "        \n",
    "    # Append the bid_data and offer_data and quote_dates.\n",
    "    # Insert your answer code here"
   ]
  },
  {
   "cell_type": "markdown",
   "metadata": {
    "deletable": false,
    "editable": false,
    "nbgrader": {
     "cell_type": "markdown",
     "checksum": "ad541086e1660ca2d0e5cab54d708443",
     "grade": false,
     "grade_id": "cell-8f76913a7c10dd85",
     "locked": true,
     "schema_version": 3,
     "solution": false,
     "task": false
    }
   },
   "source": [
    "##### In the print statements below you should be able to see equal length lists for each list."
   ]
  },
  {
   "cell_type": "code",
   "execution_count": 129,
   "execution_state": "idle",
   "metadata": {},
   "outputs": [
    {
     "name": "stdout",
     "output_type": "stream",
     "text": [
      "[<__main__.CompletedTrade object at 0x7fade7fda1a0>, <__main__.CompletedTrade object at 0x7fade7fdab00>, <__main__.CompletedTrade object at 0x7fade7fda500>, <__main__.CompletedTrade object at 0x7fade7fdaa10>, <__main__.CompletedTrade object at 0x7fade7fdae30>, <__main__.CompletedTrade object at 0x7fade7fda920>, <__main__.CompletedTrade object at 0x7fade7fec370>, <__main__.CompletedTrade object at 0x7fade7fee860>, <__main__.CompletedTrade object at 0x7fade7fd8d00>, <__main__.CompletedTrade object at 0x7fade7fd9ab0>, <__main__.CompletedTrade object at 0x7fade7c50430>, <__main__.CompletedTrade object at 0x7fadec295450>, <__main__.CompletedTrade object at 0x7fade7fee7a0>, <__main__.CompletedTrade object at 0x7fade7fee7d0>, <__main__.CompletedTrade object at 0x7fade7fed7b0>, <__main__.CompletedTrade object at 0x7fade7fec640>]\n"
     ]
    }
   ],
   "source": [
    "\n"
   ]
  },
  {
   "cell_type": "code",
   "execution_count": 38,
   "execution_state": "idle",
   "metadata": {
    "deletable": false,
    "editable": false,
    "nbgrader": {
     "cell_type": "code",
     "checksum": "818551955dceb53a4364a42c34a43a70",
     "grade": false,
     "grade_id": "cell-35bfc92204cc0982",
     "locked": true,
     "schema_version": 3,
     "solution": false,
     "task": false
    }
   },
   "outputs": [
    {
     "name": "stdout",
     "output_type": "stream",
     "text": [
      "bid_data: [73.1374, 71.6674, 72.3534, 75.0288]\n",
      "offer_data: [76.12259999999999, 74.59259999999999, 75.3066, 78.0912]\n",
      "quote_dates: [10000, 105000, 110000, 120000]\n"
     ]
    }
   ],
   "source": [
    "print(\"bid_data:\", bid_data)\n",
    "print(\"offer_data:\", offer_data)\n",
    "print(\"quote_dates:\", quote_dates)"
   ]
  },
  {
   "cell_type": "markdown",
   "metadata": {
    "deletable": false,
    "editable": false,
    "nbgrader": {
     "cell_type": "markdown",
     "checksum": "d2026a5155c99141415ef77391b9bedd",
     "grade": false,
     "grade_id": "cell-811ecb8839822f75",
     "locked": true,
     "schema_version": 3,
     "solution": false,
     "task": false
    }
   },
   "source": [
    "The quote_dates, bid_data and offer_data are now assigned to the corresponding list. \n",
    "\n",
    "#### Next find the reference prices for AAPL as we have gaps in our dates."
   ]
  },
  {
   "cell_type": "code",
   "execution_count": 39,
   "execution_state": "idle",
   "metadata": {
    "deletable": false,
    "nbgrader": {
     "cell_type": "code",
     "checksum": "f7a241dde57306d8045febae16b251ec",
     "grade": false,
     "grade_id": "cell-2bd8af9c8806005a",
     "locked": false,
     "schema_version": 3,
     "solution": true,
     "task": false
    }
   },
   "outputs": [],
   "source": [
    "# Replace the ? in this task with your answer.\n",
    "\n",
    "ref_data = []\n",
    "ref_dates = []\n",
    "\n",
    "for price in prices: # Iterate through the quotes to find each AAPL ticker and matching price data.\n",
    "    # Add filtering to ensure we find AAPL trades and all trades upto the last quote_dates.\n",
    "    # Append the ref_data and ref_dates\n",
    "    # Insert your answer code here\n",
    "    if price[0] ==\"AAPL\" and price[1] <= quote_dates[-1]:\n",
    "        ref_data.append(price[2])\n",
    "        ref_dates.append(price[1])"
   ]
  },
  {
   "cell_type": "markdown",
   "metadata": {
    "deletable": false,
    "editable": false,
    "nbgrader": {
     "cell_type": "markdown",
     "checksum": "31664116b745d3ef09527917ee63e554",
     "grade": false,
     "grade_id": "cell-21a63db85ddbd711",
     "locked": true,
     "schema_version": 3,
     "solution": false,
     "task": false
    }
   },
   "source": [
    "##### In the print statements below you should be able to see equal length lists for each list. The ref_dates should go untill the last quote_dates"
   ]
  },
  {
   "cell_type": "code",
   "execution_count": 40,
   "execution_state": "idle",
   "metadata": {
    "deletable": false,
    "editable": false,
    "nbgrader": {
     "cell_type": "code",
     "checksum": "745ddc4e07977b3dba8c5b4839f74154",
     "grade": false,
     "grade_id": "cell-5beac75cf6de3b71",
     "locked": true,
     "schema_version": 3,
     "solution": false,
     "task": false
    }
   },
   "outputs": [
    {
     "name": "stdout",
     "output_type": "stream",
     "text": [
      "ref_data: [74.7, 74.81, 74.63, 73.83, 75.24, 73.96, 74.21, 74.7, 75.38, 74.01, 73.26, 73.08, 72.88, 72.46, 72.41, 72.33, 71.44, 71.49, 71.59, 72.53, 72.84, 73.13, 73.83, 75.68, 76.56]\n",
      "ref_dates: [0, 5000, 10000, 15000, 20000, 25000, 30000, 35000, 40000, 45000, 50000, 55000, 60000, 65000, 70000, 75000, 80000, 85000, 90000, 95000, 100000, 105000, 110000, 115000, 120000]\n"
     ]
    }
   ],
   "source": [
    "print(\"ref_data:\", ref_data)\n",
    "print(\"ref_dates:\", ref_dates)"
   ]
  },
  {
   "cell_type": "markdown",
   "metadata": {
    "deletable": false,
    "editable": false,
    "nbgrader": {
     "cell_type": "markdown",
     "checksum": "d3940c938e758b1bb533cee00a9690e5",
     "grade": false,
     "grade_id": "cell-b29e85da25279043",
     "locked": true,
     "schema_version": 3,
     "solution": false,
     "task": false
    }
   },
   "source": [
    "#####  Finally we must plot each of the axes."
   ]
  },
  {
   "cell_type": "code",
   "execution_count": 41,
   "execution_state": "idle",
   "metadata": {
    "deletable": false,
    "nbgrader": {
     "cell_type": "code",
     "checksum": "9c1d6e99f344ca64ba613bc2d85b7a1c",
     "grade": false,
     "grade_id": "cell-a497c155f275b2bc",
     "locked": false,
     "schema_version": 3,
     "solution": true,
     "task": false
    }
   },
   "outputs": [
    {
     "data": {
      "text/plain": [
       "[<matplotlib.lines.Line2D at 0x7f80166fa6b0>]"
      ]
     },
     "execution_count": 41,
     "metadata": {},
     "output_type": "execute_result"
    },
    {
     "data": {
      "image/png": "[encoded data removed]",
      "text/plain": [
       "<Figure size 640x480 with 1 Axes>"
      ]
     },
     "metadata": {},
     "output_type": "display_data"
    }
   ],
   "source": [
    "axes = plt.subplot() # Creates the Axis.\n",
    "\n",
    "axes.plot(quote_dates, bid_data) # Plot the X and Y axis using the quote_dates and bid_data.\n",
    "\n",
    "# Plot the refData and offerData next\n",
    "# Insert your answer code here\n",
    "axes.plot(quote_dates,offer_data)\n",
    "axes.plot(ref_dates,ref_data)\n"
   ]
  },
  {
   "cell_type": "markdown",
   "metadata": {
    "deletable": false,
    "editable": false,
    "nbgrader": {
     "cell_type": "markdown",
     "checksum": "5fa41e44157bbdca26d55f4dd75e21e0",
     "grade": false,
     "grade_id": "cell-7851b7dd3470c340",
     "locked": true,
     "schema_version": 3,
     "solution": false,
     "task": false
    }
   },
   "source": [
    "##### The cell below is used to grade the work after the event. You do not need to do anything here."
   ]
  },
  {
   "cell_type": "code",
   "execution_count": null,
   "metadata": {
    "deletable": false,
    "editable": false,
    "nbgrader": {
     "cell_type": "code",
     "checksum": "79fbcc607e0b2782287e12b1d934a19c",
     "grade": true,
     "grade_id": "cell-48a06ca8c2b89114",
     "locked": true,
     "points": 1,
     "schema_version": 3,
     "solution": false,
     "task": false
    }
   },
   "outputs": [],
   "source": [
    "# GRADING CELL"
   ]
  },
  {
   "cell_type": "markdown",
   "metadata": {
    "deletable": false,
    "editable": false,
    "nbgrader": {
     "cell_type": "markdown",
     "checksum": "bd63137dcc7e6c437af2eb7eaaa0e8ae",
     "grade": false,
     "grade_id": "cell-bcaeb4e7fc243ab4",
     "locked": true,
     "schema_version": 3,
     "solution": false,
     "task": false
    }
   },
   "source": [
    "![](https://algo-assets.amplifyme.com/quant/challenge2.png)"
   ]
  },
  {
   "cell_type": "markdown",
   "metadata": {
    "deletable": false,
    "editable": false,
    "nbgrader": {
     "cell_type": "markdown",
     "checksum": "485c611ddebb7c29c5c6b77423fa3330",
     "grade": false,
     "grade_id": "986049254f29a0411",
     "locked": true,
     "schema_version": 3,
     "solution": false,
     "task": false
    }
   },
   "source": [
    "# Quant Simulation Challenge 2 - Skewed Price Making\n",
    "\n",
    "In this challenge you must work independently to complete several functions which will now skew your prices based on the position of risk at any given moment of time. This will help show you how to optimize the code.\n",
    "\n",
    "The goal of this challenge is to automate the market-making process, using object-orientated programming to automatically create a bid-offer spread around the reference price. \n",
    "\n",
    "You're expected to provide a 2% non-skewed bid and offer for each trade with no risk.\n",
    "\n",
    "You're expected to provide a 1% non-skewed bid or offer and a 7% skewed bid or offer depending on your risk.\n",
    "\n",
    "Good luck!"
   ]
  },
  {
   "cell_type": "code",
   "execution_count": null,
   "metadata": {
    "deletable": false,
    "editable": false,
    "nbgrader": {
     "cell_type": "code",
     "checksum": "a84fd4411ddeb493667e4ce7d80aabc5",
     "grade": false,
     "grade_id": "cell-8d172d28a243ddb8",
     "locked": true,
     "schema_version": 3,
     "solution": false,
     "task": false
    }
   },
   "outputs": [],
   "source": [
    "VimeoVideo('744735162?h=5b1f522aa1')"
   ]
  },
  {
   "cell_type": "code",
   "execution_count": null,
   "metadata": {
    "deletable": false,
    "editable": false,
    "nbgrader": {
     "cell_type": "code",
     "checksum": "de3ddae30b13c029ab7f63780af8e5d8",
     "grade": false,
     "grade_id": "cell-4cdb572ee805ed6e",
     "locked": true,
     "schema_version": 3,
     "solution": false,
     "task": false
    }
   },
   "outputs": [],
   "source": [
    "mm = MarketMaker.mm()"
   ]
  },
  {
   "cell_type": "markdown",
   "metadata": {
    "deletable": false,
    "editable": false,
    "nbgrader": {
     "cell_type": "markdown",
     "checksum": "7323fab029b72e139c3d3b0a755ddd45",
     "grade": false,
     "grade_id": "cell-a10b92c6347298d2",
     "locked": true,
     "schema_version": 3,
     "solution": false,
     "task": false
    }
   },
   "source": [
    "\n",
    "### a) Using the code learned in challenge 1 apply an algorithm to all price requests and skew based on risk.\n",
    "\n",
    "\n",
    "The functions below have been created in 2 steps to allow you to manage the trade process faster.\n",
    "\n",
    "\n",
    "#### Remember to log any *quoted_trades* and *completed_trades* to your MM object or risk penalties for poor risk management."
   ]
  },
  {
   "cell_type": "markdown",
   "metadata": {
    "deletable": false,
    "editable": false,
    "nbgrader": {
     "cell_type": "markdown",
     "checksum": "593ca1bdc38d60b464d8366a846b59ff",
     "grade": false,
     "grade_id": "cell-ba2e99f48d4a08e9",
     "locked": true,
     "schema_version": 3,
     "solution": false,
     "task": false
    }
   },
   "source": [
    "#### Function 1 - `def calculate_spread(price):` \n",
    "This first function has been mostly done for you, just calculate the bid and offer price. For this function, the *balance* is accessed to determine the firm's risk at any given moment. This information is then used to decide if you're Axed Long, Axed Short or Neutral in your position. This is then reflected in your **bid** and **offer** prices."
   ]
  },
  {
   "cell_type": "code",
   "execution_count": null,
   "metadata": {
    "deletable": false,
    "nbgrader": {
     "cell_type": "code",
     "checksum": "53c6a586e40db8f83765e0fcb45e0b2e",
     "grade": true,
     "grade_id": "cell-d535e23f19aabc1e",
     "locked": false,
     "points": 0,
     "schema_version": 3,
     "solution": true,
     "task": false
    }
   },
   "outputs": [],
   "source": [
    "# Replace the ? in this task with your answer.\n",
    "\n",
    "def calculate_spread(quote):\n",
    "    volume = mm.current_positions[quote[0][0]].position_volume\n",
    "    if volume > 0:\n",
    "        bid_price = ? # Give the bid spread\n",
    "        offer_price = ? # Give the offer spread\n",
    "    # Complete all other scenarios for the volume.\n",
    "    # Create a QuotedTrade to be returned from this function and log it.\n",
    "    # Insert your answer code here\n",
    "    return trade"
   ]
  },
  {
   "cell_type": "markdown",
   "metadata": {
    "deletable": false,
    "editable": false,
    "nbgrader": {
     "cell_type": "markdown",
     "checksum": "fae5e9cfbf49711b5346ae7aaadaccc3",
     "grade": false,
     "grade_id": "cell-02ea185bada81591",
     "locked": true,
     "schema_version": 3,
     "solution": false,
     "task": false
    }
   },
   "source": [
    "#### Function 2 - `def handle_response(trade):` \n",
    "The **QuotedTrade** object is shown using the HF's function, to get the HF's response. You need to handle this response, in order to create your **CompletedTrade** object correctly. Also, log your CompletedTrade object using: `mm.add_trade(CompletedTrade)` ."
   ]
  },
  {
   "cell_type": "code",
   "execution_count": null,
   "metadata": {
    "deletable": false,
    "nbgrader": {
     "cell_type": "code",
     "checksum": "9b378986e9c8102259d2f54677852495",
     "grade": false,
     "grade_id": "cell-af5543333b0ca4bb",
     "locked": false,
     "schema_version": 3,
     "solution": true,
     "task": false
    }
   },
   "outputs": [],
   "source": [
    "def handle_response(trade):\n",
    "    # Add the logic here for handling the response action.\n",
    "    # Create and Store the CompletedTrade into your logs.\n",
    "    # Insert your answer code here"
   ]
  },
  {
   "cell_type": "markdown",
   "metadata": {
    "deletable": false,
    "editable": false,
    "nbgrader": {
     "cell_type": "markdown",
     "checksum": "e769ff36172f9d372f6d4b6c0d83fb20",
     "grade": false,
     "grade_id": "cell-0e3da44f32ab8840",
     "locked": true,
     "schema_version": 3,
     "solution": false,
     "task": false
    }
   },
   "source": [
    "### Run the cell below to call your functions"
   ]
  },
  {
   "cell_type": "code",
   "execution_count": null,
   "metadata": {
    "deletable": false,
    "editable": false,
    "nbgrader": {
     "cell_type": "code",
     "checksum": "ac7f28f9cb6a7012ca49eedf4b49145e",
     "grade": false,
     "grade_id": "cell-2145c65b3e4f35e8",
     "locked": true,
     "schema_version": 3,
     "solution": false,
     "task": false
    }
   },
   "outputs": [],
   "source": [
    "for request in price_requests:\n",
    "    for price in prices:\n",
    "        if price[0] == request[0] and price[1] == request[1]:\n",
    "            quote = calculate_spread( (request, price[2]) )\n",
    "            response = hf.show(quote)\n",
    "            trade = handle_response(response)"
   ]
  },
  {
   "cell_type": "code",
   "execution_count": null,
   "metadata": {
    "deletable": false,
    "editable": false,
    "nbgrader": {
     "cell_type": "code",
     "checksum": "e0b312313738ac4dc35d4d904f0799d5",
     "grade": true,
     "grade_id": "cell-7b49a3c2a6956eab",
     "locked": true,
     "points": 1,
     "schema_version": 3,
     "solution": false,
     "task": false
    }
   },
   "outputs": [],
   "source": [
    "# GRADING CELL"
   ]
  },
  {
   "cell_type": "markdown",
   "metadata": {
    "deletable": false,
    "editable": false,
    "nbgrader": {
     "cell_type": "markdown",
     "checksum": "7823980de63ef1167a4b72b65dd3efd0",
     "grade": false,
     "grade_id": "cell-200fbeedcf2a5d70",
     "locked": true,
     "schema_version": 3,
     "solution": false,
     "task": false
    }
   },
   "source": [
    "### b) Create graphical outputs for all the tickers you quoted_trades\n",
    "\n",
    "#### Similar to the graph created in Chalenge One however it should be done for all the different tickers dealt for the HF client."
   ]
  },
  {
   "cell_type": "code",
   "execution_count": null,
   "metadata": {
    "deletable": false,
    "nbgrader": {
     "cell_type": "code",
     "checksum": "ff0799eb5302584d085f4726b5252e44",
     "grade": false,
     "grade_id": "cell-94618ea7fe2d603a",
     "locked": false,
     "schema_version": 3,
     "solution": true,
     "task": false
    }
   },
   "outputs": [],
   "source": [
    "# Insert your answer code here"
   ]
  }
 ],
 "metadata": {
  "kernelspec": {
   "display_name": "Python 3 (ipykernel)",
   "language": "python",
   "name": "python3"
  },
  "language_info": {
   "codemirror_mode": {
    "name": "ipython",
    "version": 3
   },
   "file_extension": ".py",
   "mimetype": "text/x-python",
   "name": "python",
   "nbconvert_exporter": "python",
   "pygments_lexer": "ipython3",
   "version": "3.10.10"
  }
 },
 "nbformat": 4,
 "nbformat_minor": 4
}
